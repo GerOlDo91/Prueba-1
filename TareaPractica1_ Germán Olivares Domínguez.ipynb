{
 "cells": [
  {
   "cell_type": "markdown",
   "metadata": {},
   "source": [
    "<h1 align=\"center\">Física Computacional.</h1>\n",
    "<h1 align=\"center\">Semestre 2025-4</h1>\n",
    "\n",
    "<h2> Profesor: Sergio A. Alcalá Corona </h2> \n",
    "\n",
    "---\n",
    "### Ayudante: Rodrigo Vega Vilchis\n",
    "---"
   ]
  },
  {
   "cell_type": "markdown",
   "metadata": {},
   "source": [
    "---\n",
    "### Alumno: Germán Olivares Domínguez\n",
    "---"
   ]
  },
  {
   "cell_type": "markdown",
   "metadata": {},
   "source": [
    "<h1 align=\"center\">Programación para la física computacional</h1> \n",
    "\n",
    "## Práctica 1.  Programación básica\n",
    "\n",
    "\n",
    "### Programación básica para la física\n",
    "\n",
    "---"
   ]
  },
  {
   "cell_type": "markdown",
   "metadata": {},
   "source": [
    "### **EJERCICIOS**:\n",
    "\n",
    "$\\;$\n",
    "\n",
    "#### **1. Altitud de un satélite**: se va a lanzar un satélite en una órbita circular alrededor de la Tierra de modo que orbite el planeta una vez cada $T$ segundos."
   ]
  },
  {
   "cell_type": "markdown",
   "metadata": {},
   "source": [
    "#### **(a)** Demuestre que la altitud $h$ sobre la superficie de la Tierra que debe tener el satélite es:\n",
    "\n",
    "<h3 align=\"center\">$h = \\biggl( {GMT^2\\over4\\pi^2} \\biggr)^{1/3} - R$,</h3> \n",
    "\n",
    "donde $G = 6,67 × 10^{−11} m^3 kg^{−1}s^{−2}$ es la constante gravitatoria de Newton, $M = 5,97 ×\n",
    "1024 kg$ es la masa de la Tierra, y $R = 6371 km$ es su radio.\n",
    "\n",
    "\n"
   ]
  },
  {
   "cell_type": "markdown",
   "metadata": {},
   "source": [
    "<div style=\"background-color:#f0f8ff; padding:10px; border-radius:5px;\">\n",
    "El satélite se mueve en un movimiento circular uniforme. La única fuerza que actúa sobre él es la gravitacional, que también funciona como fuerza centrípeta y curva su trayectoria. Por lo tanto, la fuerza gravitacional y la fuerza centrípeta son iguales.\n",
    "\n",
    "Escribimos la ley de gravitación de Newton y la fórmula de la fuerza centrípeta:\n",
    "\n",
    "Ley de gravitación de Newton:\n",
    "\n",
    "$$\n",
    "F_g = \\frac{G m M}{(R + h)^2},\n",
    "$$\n",
    "\n",
    "donde \\( m \\) representa la masa del satélite y \\( h \\) es la altitud del satélite sobre la superficie de la Tierra.\n",
    "\n",
    "La fuerza centrípeta es igual a:\n",
    "\n",
    "$$\n",
    "F_c = m a_d = \\frac{m v^2}{R + h},\n",
    "$$\n",
    "\n",
    "donde \\( v \\) es la velocidad tngencial del satélite.\n",
    "\n",
    "Ambas fuerzas deben ser iguales, por lo tanto:\n",
    "\n",
    "$$\n",
    "\\frac{G m M}{(R + h)^2} = \\frac{m v^2}{R + h} \\tag{1}\n",
    "$$\n",
    "\n",
    "El satélite es geoestacionario, por lo que su velocidad angular es igual a la velocidad angular de la Tierra. Así, el periodo de este movimiento es también el mismo: 24 horas.\n",
    "\n",
    "Entonces, la velocidad tangencial del satélite es:\n",
    "\n",
    "$$\n",
    "v = \\omega (R + h) = \\frac{2 \\pi}{T} (R + h), \\tag{2}\n",
    "$$\n",
    "\n",
    "donde \\( T \\) representa su periodo.\n",
    "\n",
    "Usando las fórmulas (1) y (2) podemos expresar la altura:\n",
    "\n",
    "La velocidad angular en la fórmula (2) se sustituye en la fórmula (1):\n",
    "\n",
    "$$\n",
    "\\frac{G m M}{(R + h)^2} = \\frac{4 \\pi^2 m (R + h)}{T^2} \\implies \\frac{G M T^2}{4 \\pi^2} = (R + h)^3\n",
    "$$\n",
    "\n",
    "La solución final para \\( h \\) es:\n",
    "\n",
    "$$\n",
    "h = \\sqrt[3]{\\frac{G M T^2}{4 \\pi^2}} - R\n",
    "$$\n",
    "</div>\n"
   ]
  },
  {
   "cell_type": "markdown",
   "metadata": {},
   "source": [
    "#### **(b)** Escribe un programa que le pida al usuario que ingrese el valor deseado de $T$ y luego calcule e imprima la altura correcta en metros.\n"
   ]
  },
  {
   "cell_type": "code",
   "execution_count": 3,
   "metadata": {},
   "outputs": [
    {
     "name": "stdout",
     "output_type": "stream",
     "text": [
      "Ingresa el periodo orbital T en segundos: 17893509\n",
      "La altitud del satélite es: 1471751700.6297257 metros\n"
     ]
    }
   ],
   "source": [
    "import math\n",
    "G = 6.67e-11   \n",
    "M = 5.97e24  \n",
    "R = 6371e3\n",
    "T = float(input(\"Ingresa el periodo orbital T en segundos: \"))\n",
    "h = (G * M * T**2 / (4 * math.pi**2))**(1/3) - R\n",
    "print(\"La altitud del satélite es:\", h, \"metros\")"
   ]
  },
  {
   "cell_type": "markdown",
   "metadata": {},
   "source": [
    "#### **(c)** Utiliza tu programa para calcular las altitudes de los satélites que orbitan la Tierra una vez al día (la llamada *órbita \"geoestacionaria\"*), una vez cada **90 minutos** y una vez cada **45 minutos**. \n",
    "#### ¿Qué concluyes del último de estos cálculos?"
   ]
  },
  {
   "cell_type": "code",
   "execution_count": 4,
   "metadata": {},
   "outputs": [
    {
     "name": "stdout",
     "output_type": "stream",
     "text": [
      "\n",
      "Altitudes para: \n",
      "Geoestacionaria (24h) Altitud: 35855910.176174976 metros\n",
      "Cada 90 minutos Altitud: 279321.6253728606 metros\n",
      "Cada 45 minutos Altitud: -2181559.8978108233 metros\n"
     ]
    }
   ],
   "source": [
    "print(\"\\nAltitudes para: \")\n",
    "T_dia = 24 * 3600\n",
    "T_90min = 90 * 60\n",
    "T_45min = 45 * 60\n",
    "\n",
    "lista_T = [T_dia, T_90min, T_45min]\n",
    "nombres = [\"Geoestacionaria (24h)\", \"Cada 90 minutos\", \"Cada 45 minutos\"]\n",
    "\n",
    "for i in range(3):\n",
    "    T = lista_T[i]\n",
    "    h = (G * M * T**2 / (4 * math.pi**2))**(1/3) - R\n",
    "    print(nombres[i], \"Altitud:\", h, \"metros\")"
   ]
  },
  {
   "cell_type": "markdown",
   "metadata": {},
   "source": [
    "Se concluye que para un periodo orbital demasiado corto, el satelite no puede completar una orbita circular. Es decir, a periodos pequeños, el satelite se encuentra \"dentro de la Tierra\", ya que R es mayor a r, por eso la altitud da negativa."
   ]
  },
  {
   "cell_type": "markdown",
   "metadata": {},
   "source": [
    "#### **2. Relatividad especial:** Una nave espacial viaja desde la Tierra en línea recta a una velocidad relativista $v$ a otro planeta a $x$ años luz de distancia. \n",
    "\n",
    "#### Escribe un programa que le pida al usuario el valor de $x$ y la velocidad $v$ como una fracción de la velocidad de la luz $c$, y que imprima el tiempo en años que tarda la nave espacial en llegar a su destino\n",
    "\n",
    "#### **(a)** en el marco de reposo de un observador en la Tierra y"
   ]
  },
  {
   "cell_type": "code",
   "execution_count": 5,
   "metadata": {},
   "outputs": [
    {
     "name": "stdout",
     "output_type": "stream",
     "text": [
      "Ingresa la distancia al planeta (en años luz): 23\n",
      "Ingresa la velocidad como fracción decimal de c: 0.6\n",
      "Tiempo desde un observador en la Tierra: 38.333333333333336 años\n"
     ]
    }
   ],
   "source": [
    "import math\n",
    "c = 1.0  # c: velocidad de la luz dada en unidades de años luz por año\n",
    "x = float(input(\"Ingresa la distancia al planeta (en años luz): \"))\n",
    "c_fraccion = float(input(\"Ingresa la velocidad como fracción decimal de c: \"))\n",
    "v = c_fraccion * c\n",
    "if v >= c:\n",
    "    print(\"La velocidad debe ser menor que la velocidad de la luz.\")\n",
    "else:\n",
    "    t_tierra = x / v\n",
    "    t_nave = t_tierra * math.sqrt(1 - v**2 / c**2)\n",
    "    print(\"Tiempo desde un observador en la Tierra:\", t_tierra, \"años\")"
   ]
  },
  {
   "cell_type": "markdown",
   "metadata": {},
   "source": [
    "#### **(b)** como lo percibiría un pasajero a bordo de la nave. "
   ]
  },
  {
   "cell_type": "code",
   "execution_count": 6,
   "metadata": {},
   "outputs": [
    {
     "name": "stdout",
     "output_type": "stream",
     "text": [
      "Ingresa la distancia al planeta (en años luz): 35\n",
      "Ingresa la velocidad como fracción decimal de c: 0.9\n",
      "Tiempo según un pasajero en la nave: 16.951273669324838 años\n"
     ]
    }
   ],
   "source": [
    "import math\n",
    "c = 1.0\n",
    "x = float(input(\"Ingresa la distancia al planeta (en años luz): \"))\n",
    "c_fraccion = float(input(\"Ingresa la velocidad como fracción decimal de c: \"))\n",
    "v = c_fraccion * c\n",
    "if v >= c:\n",
    "    print(\"La velocidad debe ser menor que la velocidad de la luz.\")\n",
    "else:\n",
    "    t_tierra = x / v\n",
    "    t_nave = t_tierra * math.sqrt(1 - v**2 / c**2)\n",
    "    print(\"Tiempo según un pasajero en la nave:\", t_nave, \"años\")"
   ]
  },
  {
   "cell_type": "markdown",
   "metadata": {},
   "source": [
    "#### Usa tu programa para calcular las respuestas para un planeta a 10 años luz de distancia con $v = 0.99c$"
   ]
  },
  {
   "cell_type": "code",
   "execution_count": 7,
   "metadata": {},
   "outputs": [
    {
     "name": "stdout",
     "output_type": "stream",
     "text": [
      "Tiempo en Tierra: 10.1010101010101 años\n",
      "Tiempo en la nave: 1.424922826228878 años\n"
     ]
    }
   ],
   "source": [
    "x = 10\n",
    "v = 0.99\n",
    "t_tierra = x / v\n",
    "t_nave = t_tierra * math.sqrt(1 - v**2)\n",
    "print(\"Tiempo en Tierra:\", t_tierra, \"años\")\n",
    "print(\"Tiempo en la nave:\", t_nave, \"años\")"
   ]
  },
  {
   "cell_type": "markdown",
   "metadata": {},
   "source": [
    "#### **3. Órbitas planetarias**: En el espacio, la órbita de un cuerpo alrededor de otro (como un planeta alrededor del Sol), no necesariamente es circular. En general, toma la forma de una elipse, con el cuerpo a veces más cerca y otras más lejos. Si tenemos la distancia $\\ell_1$ de máxima aproximación de un planeta al Sol (su \\textit{perihelio}), y su velocidad lineal $v_1$ en el perihelio, entonces cualquier otra propiedad de la órbita se puede calcular a partir de estas dos cantidades de la siguiente manera:\n",
    "\n",
    "#### **(a)** La segunda ley de Kepler nos dice que la distancia $\\ell_2$ y la velocidad $v_2$ del planeta en su punto más distante, o \\textit{afelio}, satisfacen que $\\ell_2 v_2 = \\ell_1 v_1$.  Al mismo tiempo, la energía total, cinética más la gravitatoria, de un planeta con velocidad $v$ y distancia $r$ del Sol está dada por:\n",
    "\n",
    "<h3 align=\"center\">$E = \\frac{1}{2} m v^2 - G {mM\\over r}$,</h3>\n",
    "       \n",
    "#### donde $m$ es la masa del planeta, $M=1.9891\\times10^{30}\\,$kg es la masa del Sol y $G=6.6738\\times10^{-11}\\,\\mathrm{m^3\\,kg^{-1}\\,s^{-2}}$ es la constante gravitatoria de Newton. Dado que la energía debe conservarse, demuestre que $v_2$ es la raíz más pequeña de la ecuación cuadrática:\n",
    "\n",
    "<h3 align=\"center\">$v_2^2 - {2GM\\over v_1\\ell_1} v_2 - \\biggl[ v_1^2 - {2GM\\over\\ell_1} \\biggr] = 0$.</h3>\n",
    "\n",
    "#### Una vez que tenemos $v_2$ podemos calcular $\\ell_2$  usando la relación $\\ell_2 = \\ell_1 v_1/v_2$.\n"
   ]
  },
  {
   "cell_type": "markdown",
   "metadata": {},
   "source": [
    "<div style=\"background-color:#f0f8ff; padding:10px; border-radius:5px;\">\n",
    "De la segunda ley de Kepler se cumple que:\n",
    "\n",
    "$$\n",
    "\\ell_1 v_1 = \\ell_2 v_2\n",
    "$$\n",
    "\n",
    "Considerando la conservación de la energía total:\n",
    "\n",
    "$$\n",
    "\\frac{1}{2} v_1^2 - \\frac{G M}{\\ell_1} = \\frac{1}{2} v_2^2 - \\frac{G M}{\\ell_2}\n",
    "$$\n",
    "\n",
    "Al sustituir \n",
    "\n",
    "$$\n",
    "\\ell_2 = \\frac{\\ell_1 v_1}{v_2}\n",
    "$$\n",
    "\n",
    "queda:\n",
    "\n",
    "$$\n",
    "\\frac{1}{2} v_1^2 - \\frac{G M}{\\ell_1} = \\frac{1}{2} v_2^2 - \\frac{G M v_2}{\\ell_1 v_1}\n",
    "$$\n",
    "\n",
    "Reordenando, se obtiene la ecuación cuadrática:\n",
    "\n",
    "$$\n",
    "v_2^2 - \\frac{2 G M}{\\ell_1 v_1} v_2 - \\left( v_1^2 - \\frac{2 G M}{\\ell_1} \\right) = 0\n",
    "$$\n",
    "\n",
    "De aquí, las soluciones para \\(v2\\) son:\n",
    "\n",
    "$$\n",
    "v_2 = \\frac{ \\frac{2 G M}{\\ell_1 v_1} \\pm \\sqrt{ \\left( \\frac{2 G M}{\\ell_1 v_1} \\right)^2 + 4 \\left( v_1^2 - \\frac{2 G M}{\\ell_1} \\right) } }{2}\n",
    "$$\n",
    "\n",
    "Se escoge la raíz menor porque la velocidad en el afelio debe ser menor que en el perihelio.\n",
    "\n",
    "\n",
    "</div>\n"
   ]
  },
  {
   "cell_type": "markdown",
   "metadata": {},
   "source": [
    "#### **(b)**  Dados los valores de $v_1$, $\\ell_1$, y $\\ell_2$; otros parámetros de la órbita se obtienen mediante fórmulas simples que pueden derivarse de las leyes de Kepler y del hecho de que la órbita es una elipse:\n",
    "\n",
    "<h4 align=\"center\"><b>Semieje mayor</b>: $\\; \\; \\; a = \\frac{1}{2}(\\ell_1+\\ell_2),$</h3>\n",
    "\n",
    "<h4 align=\"center\"><b>Semieje menor</b>: $\\; \\; b = \\sqrt{\\ell_1\\ell_2},$</h3>\n",
    "\n",
    "<h4 align=\"center\"><b>Período orbital</b>: $\\; \\; T = {2\\pi ab\\over\\ell_1 v_1},$</h3>\n",
    "\n",
    "<h4 align=\"center\"><b>Excentricidad orbital</b>: $\\; \\; e = {\\ell_2-\\ell_1\\over\\ell_2+\\ell_1},$</h3>\n",
    "\n",
    "#### Escribe un programa que le pida al usuario que ingrese la distancia al Sol y la velocidad en el perihelio; para que calcule e imprima las cantidades $\\ell_2$, $v_2$, $T$ y $e$.\n"
   ]
  },
  {
   "cell_type": "code",
   "execution_count": 10,
   "metadata": {},
   "outputs": [
    {
     "name": "stdout",
     "output_type": "stream",
     "text": [
      "Ingresa la distancia al Sol en el perihelio (en metros): 123465789\n",
      "Ingresa la velocidad en el perihelio (en m/s): 12346\n",
      "l2 = 123465789.0 m\n",
      "v2 = 12346.0 m/s\n",
      "Periodo orbital T = 62834.799237334766 s\n",
      "Excentricidad e = 0.0\n"
     ]
    }
   ],
   "source": [
    "import math\n",
    "G = 6.6738e-11\n",
    "M = 1.9891e30\n",
    "l1 = float(input(\"Ingresa la distancia al Sol en el perihelio (en metros): \"))\n",
    "v1 = float(input(\"Ingresa la velocidad en el perihelio (en m/s): \"))\n",
    "\n",
    "# Calculamos el discriminante para obtener v2 usando conservacion de la energía y conservación del momento angular\n",
    "# Conservación de energía:\n",
    "# 0.5*v1^2 - GM/l1 = 0.5*v2^2 - GM/l2\n",
    "# Y usando l1*v1 = l2*v2 entonces v2 = l1*v1 / l2\n",
    "# Se obtiene una cuadrática en v2\n",
    "A = 1\n",
    "B = - (2 * G * M) / (l1 * v1)\n",
    "C = - (v1**2 - (2 * G * M) / l1)\n",
    "discriminante = B**2 - 4*A*C\n",
    "if discriminante < 0:\n",
    "    print(\"No hay solución real para v2.\")\n",
    "else:\n",
    "    raiz = math.sqrt(discriminante)\n",
    "    v2_1 = (-B + raiz) / (2*A)\n",
    "    v2_2 = (-B - raiz) / (2*A)\n",
    "    \n",
    "    # Tomamos la raíz menor positiva\n",
    "    if v2_1 < v2_2 and v2_1 > 0:\n",
    "        v2 = v2_1\n",
    "    else:\n",
    "        v2 = v2_2\n",
    "\n",
    "    # Calcular l2\n",
    "    l2 = l1 * v1 / v2\n",
    "\n",
    "    # Semiejes\n",
    "    a = 0.5 * (l1 + l2)\n",
    "    b = math.sqrt(l1 * l2)\n",
    "\n",
    "    # Periodo orbital\n",
    "    T = (2 * math.pi * a * b) / (l1 * v1)\n",
    "\n",
    "    # Excentricidad\n",
    "    e = (l2 - l1) / (l2 + l1)\n",
    "    \n",
    "    print(\"l2 =\", l2, \"m\")\n",
    "    print(\"v2 =\", v2, \"m/s\")\n",
    "    print(\"Periodo orbital T =\", T, \"s\")\n",
    "    print(\"Excentricidad e =\", e)"
   ]
  },
  {
   "cell_type": "markdown",
   "metadata": {},
   "source": [
    "#### **(c)** Prueba tu programa haciendo que calcule las propiedades de las órbitas de la Tierra (para las cuales $\\ell_1=1.4710\\times10^{11}\\,$m y $v_1=3.0287\\times10^4\\,\\mathrm{m\\,s^{-1}}$)  y del cometa Halley ($\\ell_1=8.7830\\times10^{10}\\,$m y $v_1=5.4529\\times10^4\\,\\mathrm{m\\,s^{-1}}$). Entre otras cosas, deberías encontrar que el período orbital de la Tierra es de un año y el del cometa Halley es de unos 76 años."
   ]
  },
  {
   "cell_type": "code",
   "execution_count": 11,
   "metadata": {},
   "outputs": [
    {
     "name": "stdout",
     "output_type": "stream",
     "text": [
      "Valores para la Tierra:\n",
      "T (Tierra) = 1.0002238777234564 años\n",
      "Valores para el cometa Halley:\n",
      "T (Halley) = 76.08170065465461 años\n"
     ]
    }
   ],
   "source": [
    "print(\"Valores para la Tierra:\")\n",
    "l1 = 1.4710e11\n",
    "v1 = 3.0287e4\n",
    "\n",
    "B = - (2 * G * M) / (l1 * v1)\n",
    "C = - (v1**2 - (2 * G * M) / l1)\n",
    "discriminante = B**2 - 4*A*C\n",
    "v2 = (-B - math.sqrt(discriminante)) / (2*A)\n",
    "l2 = l1 * v1 / v2\n",
    "a = 0.5 * (l1 + l2)\n",
    "b = math.sqrt(l1 * l2)\n",
    "T = (2 * math.pi * a * b) / (l1 * v1)\n",
    "e = (l2 - l1) / (l2 + l1)\n",
    "print(\"T (Tierra) =\", T / (3600*24*365), \"años\")\n",
    "\n",
    "print(\"Valores para el cometa Halley:\")\n",
    "l1 = 8.7830e10\n",
    "v1 = 5.4529e4\n",
    "\n",
    "B = - (2 * G * M) / (l1 * v1)\n",
    "C = - (v1**2 - (2 * G * M) / l1)\n",
    "discriminante = B**2 - 4*A*C\n",
    "v2 = (-B - math.sqrt(discriminante)) / (2*A)\n",
    "l2 = l1 * v1 / v2\n",
    "a = 0.5 * (l1 + l2)\n",
    "b = math.sqrt(l1 * l2)\n",
    "T = (2 * math.pi * a * b) / (l1 * v1)\n",
    "e = (l2 - l1) / (l2 + l1)\n",
    "print(\"T (Halley) =\", T / (3600*24*365), \"años\")"
   ]
  },
  {
   "cell_type": "markdown",
   "metadata": {},
   "source": [
    "### 4. La fórmula semiempírica de la masa (FSM)\n",
    "\n",
    "En física nuclear, la **fórmula de Weizsäcker** (conocida también como **fórmula semiempírica**) sirve para evaluar la masa y otras propiedades de un núcleo atómico, y está basada parcialmente en mediciones empíricas.\n",
    "En particular, la fórmula se usa para calcular la **energía de enlace nuclear aproximada** \\( B \\), de un núcleo atómico con número atómico \\( Z \\) y número de masa \\( A \\):\n",
    "\n",
    "$$\n",
    "B = a_1 A - a_2 A^{2/3} - a_3 \\frac{Z^2}{A^{1/3}} - a_4 \\frac{(A - 2Z)^2}{A} + \\frac{a_5}{\\sqrt{A}}\n",
    "$$\n",
    "\n",
    "donde, en unidades de millones de electron-volts (MeV), las constantes son:\n",
    "\n",
    "$$\n",
    "a_1 = 15.8, \\quad a_2 = 18.3, \\quad a_3 = 0.714, \\quad a_4 = 23.2\n",
    "$$\n",
    "\n",
    "y\n",
    "\n",
    "\n",
    "$$\n",
    "a_5 =\n",
    "\\begin{cases}\n",
    "0 & \\text{si } A \\text{ es impar} \\\\\n",
    "12.0 & \\text{si } A \\text{ y } Z \\text{ son pares (ambos)} \\\\\n",
    "-12.0 & \\text{si } A \\text{ es par y } Z \\text{ impar}\n",
    "\\end{cases}\n",
    "$$\n",
    "---\n",
    "\n"
   ]
  },
  {
   "cell_type": "markdown",
   "metadata": {},
   "source": [
    "a) Escribe un programa que tome como entrada los valores de A y Z, e imprima la \n",
    "energía de enlace B para el átomo correspondiente. Usa tu programa para encontrar\n",
    "la energía de enlace de un átomo con A = 58 y Z = 28 (Hint: La respuesta\n",
    "correcta es alrededor de los 490 MeV).\n"
   ]
  },
  {
   "cell_type": "code",
   "execution_count": 12,
   "metadata": {},
   "outputs": [
    {
     "name": "stdout",
     "output_type": "stream",
     "text": [
      "Ingresa el número de masa A: 58\n",
      "Ingresa el número atómico Z: 28\n",
      "Energía de enlace B = 497.5620206224374 MeV\n"
     ]
    }
   ],
   "source": [
    "import math as mt\n",
    "import numpy as np\n",
    "import matplotlib.pyplot as pl\n",
    "\n",
    "A = int(input(\"Ingresa el número de masa A: \"))\n",
    "Z = int(input(\"Ingresa el número atómico Z: \"))\n",
    "\n",
    "def EnergiaEnlace(A,Z):\n",
    "    a1 = 15.8\n",
    "    a2 = 18.3\n",
    "    a3 = 0.714\n",
    "    a4 = 23.2\n",
    "    a5 = 0\n",
    "\n",
    "    if (A % 2 == 0) and (Z % 2 == 0):\n",
    "        a5 = 12\n",
    "    elif (A % 2 == 0) and (Z % 2 != 0):\n",
    "        a5 = -12 \n",
    "    elif (A % 2 != 0):\n",
    "        a5 = 0\n",
    "\n",
    "    B = a1*A - a2*(A**(2/3)) - a3*((Z**2)/(A**(1/3))) - a4*(((A-2*Z)**2)/A)+ a5/(A**(1/2))\n",
    "    return B\n",
    "B = EnergiaEnlace(A, Z)\n",
    "print(\"Energía de enlace B =\", B, \"MeV\")"
   ]
  },
  {
   "cell_type": "markdown",
   "metadata": {},
   "source": [
    "b) Modifica el programa del inciso anterior, para escribir una segunda versión que\n",
    "imprima no la energía de enlace total B, sino la energía de unión por nucleón, que\n",
    "es B/A.\n"
   ]
  },
  {
   "cell_type": "code",
   "execution_count": 13,
   "metadata": {},
   "outputs": [
    {
     "name": "stdout",
     "output_type": "stream",
     "text": [
      "Ingresa el número de masa A: 58\n",
      "Ingresa el número atómico Z: 28\n",
      "Energía de unión por nucleón (B/A) = 8.578655527973059 MeV\n"
     ]
    }
   ],
   "source": [
    "import math as mt\n",
    "import numpy as np\n",
    "import matplotlib.pyplot as pl\n",
    "\n",
    "A = int(input(\"Ingresa el número de masa A: \"))\n",
    "Z = int(input(\"Ingresa el número atómico Z: \"))\n",
    "\n",
    "def EnergiaEnlace(A,Z):\n",
    "    a1 = 15.8\n",
    "    a2 = 18.3\n",
    "    a3 = 0.714\n",
    "    a4 = 23.2\n",
    "    a5 = 0\n",
    "\n",
    "    if (A % 2 == 0) and (Z % 2 == 0):\n",
    "        a5 = 12\n",
    "    elif (A % 2 == 0) and (Z % 2 != 0):\n",
    "        a5 = -12 \n",
    "    elif (A % 2 != 0):\n",
    "        a5 = 0\n",
    "\n",
    "    B = a1*A - a2*(A**(2/3)) - a3*((Z**2)/(A**(1/3))) - a4*(((A-2*Z)**2)/A)+ a5/(A**(1/2))\n",
    "    return B\n",
    "B = EnergiaEnlace(A, Z)        \n",
    "print(\"Energía de unión por nucleón (B/A) =\", B/A, \"MeV\")"
   ]
  },
  {
   "cell_type": "markdown",
   "metadata": {},
   "source": [
    "c) Escribe una tercera versión del programa para que tome como entrada solo un\n",
    "valor del número atómico \\( Z \\) y luego pase por todos los valores de \\( A \\) desde \\( A = Z \\)\n",
    "hasta \\( A = 3Z \\), para encontrar el que tiene la mayor energía de enlace por nucleón.\n",
    "Este es el núcleo más estable con el número atómico dado. Haz que tu programa\n",
    "imprima el valor de \\( A \\) para este núcleo más estable y el valor de la energía de\n",
    "enlace por nucleón.\n",
    "\n",
    "---\n"
   ]
  },
  {
   "cell_type": "code",
   "execution_count": 14,
   "metadata": {},
   "outputs": [
    {
     "name": "stdout",
     "output_type": "stream",
     "text": [
      "Ingresa el número atómico Z para buscar A más estable: 28\n",
      "El núcleo más estable con Z = 28 es A = 62\n",
      "Energía de enlace por nucleón máxima: 8.70245768367189 MeV\n"
     ]
    }
   ],
   "source": [
    "import math as mt\n",
    "import numpy as np\n",
    "import matplotlib.pyplot as pl\n",
    "\n",
    "Z = int(input(\"Ingresa el número atómico Z para buscar A más estable: \"))\n",
    "\n",
    "def EnergiaEnlace3(Z):\n",
    "    Energias = []\n",
    "    As = []\n",
    "\n",
    "    a1 = 15.8\n",
    "    a2 = 18.3\n",
    "    a3 = 0.714\n",
    "    a4 = 23.2\n",
    "\n",
    "    for A in range(Z, 3*Z + 1):    \n",
    "        if (A % 2 == 0) and (Z % 2 == 0):\n",
    "            a5 = 12\n",
    "        elif (A % 2 == 0) and (Z % 2 != 0):\n",
    "            a5 = -12 \n",
    "        else:\n",
    "            a5 = 0\n",
    "\n",
    "        B = a1*A - a2*(A**(2/3)) - a3*((Z**2)/(A**(1/3))) - a4*(((A - 2*Z)**2)/A) + a5/(A**(1/2))\n",
    "        B_por_A = B / A\n",
    "\n",
    "        Energias.append(B_por_A)\n",
    "        As.append(A)\n",
    "\n",
    "    # Encontrar índice del valor máximo\n",
    "    i_max = np.argmax(Energias)\n",
    "    A_mas_estable = As[i_max]\n",
    "    Bmax = Energias[i_max]\n",
    "\n",
    "    print(\"El núcleo más estable con Z =\", Z, \"es A =\", A_mas_estable)\n",
    "    print(\"Energía de enlace por nucleón máxima:\", Bmax, \"MeV\")\n",
    "\n",
    "# Llamar a la función\n",
    "EnergiaEnlace3(Z)\n"
   ]
  },
  {
   "cell_type": "markdown",
   "metadata": {},
   "source": [
    "d) Finalmente, escribe una cuarta versión del programa que, en lugar de tomar \\( Z \\)\n",
    "como entrada, se ejecute a través de todos los valores de \\( Z \\) de 1 a 100 e imprima\n",
    "el valor más estable de \\( A \\) para cada uno. ¿A qué valor de \\( Z \\) se produce la energía\n",
    "de enlace máxima por nucleón? (La respuesta correcta, en la vida real, es \\( Z = 28 \\),\n",
    "que corresponde al Níquel)."
   ]
  },
  {
   "cell_type": "code",
   "execution_count": 15,
   "metadata": {},
   "outputs": [
    {
     "name": "stdout",
     "output_type": "stream",
     "text": [
      "Z = 1 A más estable = 3 Energía máxima por nucleón = 0.3687 MeV\n",
      "Z = 2 A más estable = 4 Energía máxima por nucleón = 5.3219 MeV\n",
      "Z = 3 A más estable = 7 Energía máxima por nucleón = 5.2802 MeV\n",
      "Z = 4 A más estable = 8 Energía máxima por nucleón = 6.4663 MeV\n",
      "Z = 5 A más estable = 11 Energía máxima por nucleón = 6.6501 MeV\n",
      "Z = 6 A más estable = 14 Energía máxima por nucleón = 7.2009 MeV\n",
      "Z = 7 A más estable = 15 Energía máxima por nucleón = 7.3309 MeV\n",
      "Z = 8 A más estable = 18 Energía máxima por nucleón = 7.7193 MeV\n",
      "Z = 9 A más estable = 19 Energía máxima por nucleón = 7.737 MeV\n",
      "Z = 10 A más estable = 22 Energía máxima por nucleón = 8.0354 MeV\n",
      "Z = 11 A más estable = 25 Energía máxima por nucleón = 8.0256 MeV\n",
      "Z = 12 A más estable = 26 Energía máxima por nucleón = 8.2412 MeV\n",
      "Z = 13 A más estable = 29 Energía máxima por nucleón = 8.241 MeV\n",
      "Z = 14 A más estable = 30 Energía máxima por nucleón = 8.3792 MeV\n",
      "Z = 15 A más estable = 33 Energía máxima por nucleón = 8.3852 MeV\n",
      "Z = 16 A más estable = 36 Energía máxima por nucleón = 8.4892 MeV\n",
      "Z = 17 A más estable = 37 Energía máxima por nucleón = 8.482 MeV\n",
      "Z = 18 A más estable = 40 Energía máxima por nucleón = 8.5734 MeV\n",
      "Z = 19 A más estable = 43 Energía máxima por nucleón = 8.5518 MeV\n",
      "Z = 20 A más estable = 44 Energía máxima por nucleón = 8.6272 MeV\n",
      "Z = 21 A más estable = 47 Energía máxima por nucleón = 8.6101 MeV\n",
      "Z = 22 A más estable = 48 Energía máxima por nucleón = 8.6585 MeV\n",
      "Z = 23 A más estable = 51 Energía máxima por nucleón = 8.6452 MeV\n",
      "Z = 24 A más estable = 54 Energía máxima por nucleón = 8.6873 MeV\n",
      "Z = 25 A más estable = 55 Energía máxima por nucleón = 8.6627 MeV\n",
      "Z = 26 A más estable = 58 Energía máxima por nucleón = 8.7014 MeV\n",
      "Z = 27 A más estable = 61 Energía máxima por nucleón = 8.6781 MeV\n",
      "Z = 28 A más estable = 62 Energía máxima por nucleón = 8.7025 MeV\n",
      "Z = 29 A más estable = 65 Energía máxima por nucleón = 8.6819 MeV\n",
      "Z = 30 A más estable = 68 Energía máxima por nucleón = 8.7016 MeV\n",
      "Z = 31 A más estable = 69 Energía máxima por nucleón = 8.675 MeV\n",
      "Z = 32 A más estable = 72 Energía máxima por nucleón = 8.6934 MeV\n",
      "Z = 33 A más estable = 75 Energía máxima por nucleón = 8.6682 MeV\n",
      "Z = 34 A más estable = 76 Energía máxima por nucleón = 8.6768 MeV\n",
      "Z = 35 A más estable = 79 Energía máxima por nucleón = 8.6537 MeV\n",
      "Z = 36 A más estable = 82 Energía máxima por nucleón = 8.6614 MeV\n",
      "Z = 37 A más estable = 85 Energía máxima por nucleón = 8.6339 MeV\n",
      "Z = 38 A más estable = 86 Energía máxima por nucleón = 8.6394 MeV\n",
      "Z = 39 A más estable = 89 Energía máxima por nucleón = 8.6138 MeV\n",
      "Z = 40 A más estable = 92 Energía máxima por nucleón = 8.6145 MeV\n",
      "Z = 41 A más estable = 93 Energía máxima por nucleón = 8.5877 MeV\n",
      "Z = 42 A más estable = 96 Energía máxima por nucleón = 8.5883 MeV\n",
      "Z = 43 A más estable = 99 Energía máxima por nucleón = 8.5615 MeV\n",
      "Z = 44 A más estable = 102 Energía máxima por nucleón = 8.5574 MeV\n",
      "Z = 45 A más estable = 103 Energía máxima por nucleón = 8.5319 MeV\n",
      "Z = 46 A más estable = 106 Energía máxima por nucleón = 8.5279 MeV\n",
      "Z = 47 A más estable = 109 Energía máxima por nucleón = 8.5005 MeV\n",
      "Z = 48 A más estable = 110 Energía máxima por nucleón = 8.4941 MeV\n",
      "Z = 49 A más estable = 113 Energía máxima por nucleón = 8.468 MeV\n",
      "Z = 50 A más estable = 116 Energía máxima por nucleón = 8.4607 MeV\n",
      "Z = 51 A más estable = 119 Energía máxima por nucleón = 8.4332 MeV\n",
      "Z = 52 A más estable = 120 Energía máxima por nucleón = 8.4247 MeV\n",
      "Z = 53 A más estable = 123 Energía máxima por nucleón = 8.3983 MeV\n",
      "Z = 54 A más estable = 126 Energía máxima por nucleón = 8.3887 MeV\n",
      "Z = 55 A más estable = 129 Energía máxima por nucleón = 8.3613 MeV\n",
      "Z = 56 A más estable = 130 Energía máxima por nucleón = 8.3508 MeV\n",
      "Z = 57 A más estable = 133 Energía máxima por nucleón = 8.3244 MeV\n",
      "Z = 58 A más estable = 136 Energía máxima por nucleón = 8.313 MeV\n",
      "Z = 59 A más estable = 139 Energía máxima por nucleón = 8.2859 MeV\n",
      "Z = 60 A más estable = 140 Energía máxima por nucleón = 8.2736 MeV\n",
      "Z = 61 A más estable = 143 Energía máxima por nucleón = 8.2473 MeV\n",
      "Z = 62 A más estable = 146 Energía máxima por nucleón = 8.2346 MeV\n",
      "Z = 63 A más estable = 149 Energía máxima por nucleón = 8.2078 MeV\n",
      "Z = 64 A más estable = 150 Energía máxima por nucleón = 8.1938 MeV\n",
      "Z = 65 A más estable = 153 Energía máxima por nucleón = 8.1678 MeV\n",
      "Z = 66 A más estable = 156 Energía máxima por nucleón = 8.154 MeV\n",
      "Z = 67 A más estable = 159 Energía máxima por nucleón = 8.1276 MeV\n",
      "Z = 68 A más estable = 162 Energía máxima por nucleón = 8.1128 MeV\n",
      "Z = 69 A más estable = 163 Energía máxima por nucleón = 8.0864 MeV\n",
      "Z = 70 A más estable = 166 Energía máxima por nucleón = 8.0718 MeV\n",
      "Z = 71 A más estable = 169 Energía máxima por nucleón = 8.0458 MeV\n",
      "Z = 72 A más estable = 172 Energía máxima por nucleón = 8.0304 MeV\n",
      "Z = 73 A más estable = 175 Energía máxima por nucleón = 8.0041 MeV\n",
      "Z = 74 A más estable = 176 Energía máxima por nucleón = 7.9884 MeV\n",
      "Z = 75 A más estable = 179 Energía máxima por nucleón = 7.9627 MeV\n",
      "Z = 76 A más estable = 182 Energía máxima por nucleón = 7.9468 MeV\n",
      "Z = 77 A más estable = 185 Energía máxima por nucleón = 7.921 MeV\n",
      "Z = 78 A más estable = 188 Energía máxima por nucleón = 7.9046 MeV\n",
      "Z = 79 A más estable = 191 Energía máxima por nucleón = 7.8787 MeV\n",
      "Z = 80 A más estable = 192 Energía máxima por nucleón = 7.8624 MeV\n",
      "Z = 81 A más estable = 195 Energía máxima por nucleón = 7.837 MeV\n",
      "Z = 82 A más estable = 198 Energía máxima por nucleón = 7.8203 MeV\n",
      "Z = 83 A más estable = 201 Energía máxima por nucleón = 7.7949 MeV\n",
      "Z = 84 A más estable = 204 Energía máxima por nucleón = 7.7778 MeV\n",
      "Z = 85 A más estable = 205 Energía máxima por nucleón = 7.7524 MeV\n",
      "Z = 86 A más estable = 208 Energía máxima por nucleón = 7.7355 MeV\n",
      "Z = 87 A más estable = 211 Energía máxima por nucleón = 7.7105 MeV\n",
      "Z = 88 A más estable = 214 Energía máxima por nucleón = 7.6932 MeV\n",
      "Z = 89 A más estable = 217 Energía máxima por nucleón = 7.6682 MeV\n",
      "Z = 90 A más estable = 220 Energía máxima por nucleón = 7.6507 MeV\n",
      "Z = 91 A más estable = 223 Energía máxima por nucleón = 7.6257 MeV\n",
      "Z = 92 A más estable = 224 Energía máxima por nucleón = 7.6082 MeV\n",
      "Z = 93 A más estable = 227 Energía máxima por nucleón = 7.5836 MeV\n",
      "Z = 94 A más estable = 230 Energía máxima por nucleón = 7.566 MeV\n",
      "Z = 95 A más estable = 233 Energía máxima por nucleón = 7.5415 MeV\n",
      "Z = 96 A más estable = 236 Energía máxima por nucleón = 7.5237 MeV\n",
      "Z = 97 A más estable = 239 Energía máxima por nucleón = 7.4993 MeV\n",
      "Z = 98 A más estable = 242 Energía máxima por nucleón = 7.4813 MeV\n",
      "Z = 99 A más estable = 243 Energía máxima por nucleón = 7.4569 MeV\n",
      "Z = 100 A más estable = 246 Energía máxima por nucleón = 7.4391 MeV\n",
      "\n",
      "-----\n",
      "Valor de Z con energía de enlace máxima por nucleón: Z = 28\n",
      "A más estable para ese Z: A = 62\n",
      "Energía máxima por nucleón: 8.7025 MeV\n"
     ]
    },
    {
     "data": {
      "text/plain": [
       "(8.70245768367189, 28, 62)"
      ]
     },
     "execution_count": 15,
     "metadata": {},
     "output_type": "execute_result"
    }
   ],
   "source": [
    "import math as mt\n",
    "import numpy as np\n",
    "\n",
    "def EnergiaEnlace4():\n",
    "\n",
    "    a1 = 15.8\n",
    "    a2 = 18.3\n",
    "    a3 = 0.714\n",
    "    a4 = 23.2\n",
    "    a5 = 0\n",
    "\n",
    "    Emax = []      # guardará la energía máxima por nucleón para cada Z\n",
    "    Aestables = [] # guardará el A más estable para cada Z\n",
    "\n",
    "    for Z in range(1, 101):\n",
    "\n",
    "        Energias = []\n",
    "        Avals = []\n",
    "\n",
    "        for A in range(Z, 3*Z + 1):\n",
    "\n",
    "            if (A % 2 == 0) and (Z % 2 == 0):\n",
    "                a5 = 12\n",
    "            elif (A % 2 == 0) and (Z % 2 != 0):\n",
    "                a5 = -12\n",
    "            else:  # si A es impar\n",
    "                a5 = 0\n",
    "\n",
    "            B = a1 * A - a2 * (A ** (2/3)) - a3 * ((Z ** 2) / (A ** (1/3))) - a4 * (((A - 2*Z) ** 2) / A) + a5 / (A ** (1/2))\n",
    "            energia_por_nucleon = B / A\n",
    "            Energias.append(energia_por_nucleon)\n",
    "            Avals.append(A)\n",
    "\n",
    "        maximo = max(Energias)\n",
    "        indice_max = Energias.index(maximo)\n",
    "        A_mas_estable = Avals[indice_max]\n",
    "\n",
    "        Emax.append(maximo)\n",
    "        Aestables.append(A_mas_estable)\n",
    "\n",
    "        print(\"Z =\", Z, \"A más estable =\", A_mas_estable, \"Energía máxima por nucleón =\", round(maximo, 4), \"MeV\")\n",
    "\n",
    "    energia_global_max = max(Emax)\n",
    "    indice_global_max = Emax.index(energia_global_max)\n",
    "    Z_energia_max = indice_global_max + 1\n",
    "    A_energia_max = Aestables[indice_global_max]\n",
    "\n",
    "    print(\"\\n-----\")\n",
    "    print(\"Valor de Z con energía de enlace máxima por nucleón: Z =\", Z_energia_max)\n",
    "    print(\"A más estable para ese Z: A =\", A_energia_max)\n",
    "    print(\"Energía máxima por nucleón:\", round(energia_global_max, 4), \"MeV\")\n",
    "\n",
    "    return energia_global_max, Z_energia_max, A_energia_max\n",
    "\n",
    "\n",
    "# Ejecutar función\n",
    "EnergiaEnlace4()\n"
   ]
  },
  {
   "cell_type": "markdown",
   "metadata": {},
   "source": [
    "### 5. La constante de Madelung\n",
    "\n",
    "En física de la materia condensada, la **constante de Madelung** da el potencial eléctrico\n",
    "total que siente un átomo en un sólido; y depende de las cargas de los otros átomos\n",
    "cercanos y de sus ubicaciones.\n",
    "\n",
    "Por ejemplo, el cristal de cloruro de sodio sólido (la sal de mesa), tiene átomos dispuestos\n",
    "en una red cúbica, con átomos de sodio y cloro alternados, teniendo los de sodio\n",
    "una carga positiva $+e$ y los de cloro una carga negativa $-e$ (donde $e$ es la carga del electrón).\n",
    "\n",
    "Si etiquetamos cada posición en la red con tres coordenadas enteras $(i, j, k)$, entonces\n",
    "los átomos de sodio caen en posiciones donde $i + j + k$ es par, y los átomos de cloro en\n",
    "posiciones donde $i + j + k$ es impar.\n",
    "\n",
    "Consideremos un átomo de sodio en el origen, i.e. $i = j = k = 0$, y calculemos la\n",
    "constante de Madelung. Si el espaciado de los átomos en la red es $a$, entonces la distancia\n",
    "desde el origen al átomo en la posición $(i, j, k)$ es:\n",
    "\n",
    "$$\n",
    "\\sqrt{(ia)^2 + (ja)^2 + (ka)^2} = a \\sqrt{i^2 + j^2 + k^2},\n",
    "$$\n",
    "\n",
    "y el potencial en el origen creado por tal átomo es:\n",
    "\n",
    "$$\n",
    "V(i, j, k) = \\pm \\frac{e}{4 \\pi \\varepsilon_0 a \\sqrt{i^2 + j^2 + k^2}},\n",
    "$$\n",
    "\n",
    "siendo $\\varepsilon_0$ la permitividad del vacío y el signo de la expresión se toma dependiendo de\n",
    "si $i + j + k$ es par o impar.\n",
    "\n",
    "Así entonces, el potencial total que siente el átomo de sodio\n",
    "es la suma de esta cantidad sobre todos los demás átomos. Supongamos una caja cúbica\n",
    "alrededor del átomo de sodio en el origen, con $L$ átomos en todas las direcciones, entonces:\n",
    "\n",
    "$$\n",
    "V_{\\text{total}} = \\sum_{\\substack{i,j,k=-L \\\\ (i,j,k)\\ne(0,0,0)}}^{L} V(i, j, k) = \\frac{e}{4 \\pi \\varepsilon_0 a} M,\n",
    "$$\n",
    "\n",
    "donde $M$ es la constante de Madelung (al menos aproximadamente).\n",
    "\n",
    "Técnicamente, la constante de Madelung es el valor de $M$ cuando $L \\to \\infty$, pero se\n",
    "puede obtener una buena aproximación simplemente usando un valor grande de $L$.\n",
    "\n",
    "**Escribe un programa para calcular e imprimir la constante de Madelung para el cloruro\n",
    "de sodio. Utiliza un valor de $L$ tan grande como puedas, sin dejar que tu programa se\n",
    "ejecute por más de un minuto.**"
   ]
  },
  {
   "cell_type": "code",
   "execution_count": 16,
   "metadata": {},
   "outputs": [
    {
     "name": "stdout",
     "output_type": "stream",
     "text": [
      "Ingresa el valor de L (tamaño de la red cúbica): 20\n",
      "Constante de Madelung aproximada (L): 20  M =  -1.719401169453936\n"
     ]
    }
   ],
   "source": [
    "import math\n",
    "\n",
    "L = int(input(\"Ingresa el valor de L (tamaño de la red cúbica): \"))\n",
    "M = 0.0 # Inicializar la constante de Madelung\n",
    "\n",
    "# Triple ciclo para recorrer todos los puntos en la caja cúbica\n",
    "for i in range(-L, L + 1):\n",
    "    for j in range(-L, L + 1):\n",
    "        for k in range(-L, L + 1):\n",
    "            # Saltar el origen (0, 0, 0)\n",
    "            if i == 0 and j == 0 and k == 0:\n",
    "                continue\n",
    "\n",
    "            r = math.sqrt(i**2 + j**2 + k**2)\n",
    "            signo = (-1) ** (i + j + k)\n",
    "            M += signo / r\n",
    "\n",
    "print(f\"Constante de Madelung aproximada (L):\", L,\" M = \", M)\n"
   ]
  },
  {
   "cell_type": "markdown",
   "metadata": {},
   "source": [
    "### 6. Coeficientes binomiales\n",
    "\n",
    "El coeficiente binomial $\\binom{n}{k}$ es un número entero igual a:\n",
    "\n",
    "$$\n",
    "\\binom{n}{k} = \\frac{n!}{k!(n - k)!} = \\frac{n \\times (n - 1) \\times (n - 2) \\times \\dots \\times (n - k + 1)}{1 \\times 2 \\times \\dots \\times k}\n",
    "$$\n",
    "\n",
    "donde $k \\geq 1$, o bien $\\binom{n}{0} = 1$ cuando $k = 0$."
   ]
  },
  {
   "cell_type": "markdown",
   "metadata": {},
   "source": [
    "**a)** Utiliza esta fórmula para escribir una función llamada `binomial(n, k)` (o como tú quieras) que calcule el coeficiente binomial para un $n$ y $k$ dados. Asegúrate de\n",
    "que tu función devuelva la respuesta en forma de un número entero (no flotante)\n",
    "y proporcione el valor correcto de $1$ para el caso en que $k = 0$."
   ]
  },
  {
   "cell_type": "code",
   "execution_count": 15,
   "metadata": {},
   "outputs": [
    {
     "name": "stdout",
     "output_type": "stream",
     "text": [
      "Ingresa n: 2\n",
      "Ingresa k: 5\n",
      "El coeficiente binomial ( 2 sobre 5 ) es: 0\n"
     ]
    }
   ],
   "source": [
    "import math\n",
    "\n",
    "n = int(input(\"Ingresa n: \"))\n",
    "k = int(input(\"Ingresa k: \"))\n",
    "\n",
    "num = 1\n",
    "for i in range(n, n - k, -1):\n",
    "    num *= i\n",
    "\n",
    "den = 1\n",
    "for i in range(1, k + 1):\n",
    "    den *= i\n",
    "\n",
    "binomio = num // den\n",
    "print(\"El coeficiente binomial (\", n, \"sobre\", k, \") es:\", binomio)"
   ]
  },
  {
   "cell_type": "markdown",
   "metadata": {},
   "source": [
    "**b)** Usando tu función, escribe un programa que imprima las primeras 20 líneas del\n",
    "“triángulo de Pascal”. La $n$-ésima línea del triángulo de Pascal contiene $n+1$ números,\n",
    "que son los coeficientes $\\binom{n}{0}$, $\\binom{n}{1}$, y así sucesivamente hasta $\\binom{n}{n}$. \n",
    "\n",
    "De tal manera que las primeras líneas son:\n",
    "\n",
    "<pre>\n",
    "               \n",
    "             1   1\n",
    "           1   2   1\n",
    "         1   3   3   1\n",
    "       1   4   6   4   1\n",
    "    \n",
    "</pre>\n"
   ]
  },
  {
   "cell_type": "code",
   "execution_count": 4,
   "metadata": {},
   "outputs": [
    {
     "name": "stdout",
     "output_type": "stream",
     "text": [
      "\n",
      "Triángulo de Pascal:\n",
      "1 1 \n",
      "1 2 1 \n",
      "1 3 3 1 \n",
      "1 4 6 4 1 \n",
      "1 5 10 10 5 1 \n",
      "1 6 15 20 15 6 1 \n",
      "1 7 21 35 35 21 7 1 \n",
      "1 8 28 56 70 56 28 8 1 \n",
      "1 9 36 84 126 126 84 36 9 1 \n",
      "1 10 45 120 210 252 210 120 45 10 1 \n",
      "1 11 55 165 330 462 462 330 165 55 11 1 \n",
      "1 12 66 220 495 792 924 792 495 220 66 12 1 \n",
      "1 13 78 286 715 1287 1716 1716 1287 715 286 78 13 1 \n",
      "1 14 91 364 1001 2002 3003 3432 3003 2002 1001 364 91 14 1 \n",
      "1 15 105 455 1365 3003 5005 6435 6435 5005 3003 1365 455 105 15 1 \n",
      "1 16 120 560 1820 4368 8008 11440 12870 11440 8008 4368 1820 560 120 16 1 \n",
      "1 17 136 680 2380 6188 12376 19448 24310 24310 19448 12376 6188 2380 680 136 17 1 \n",
      "1 18 153 816 3060 8568 18564 31824 43758 48620 43758 31824 18564 8568 3060 816 153 18 1 \n",
      "1 19 171 969 3876 11628 27132 50388 75582 92378 92378 75582 50388 27132 11628 3876 969 171 19 1 \n",
      "1 20 190 1140 4845 15504 38760 77520 125970 167960 184756 167960 125970 77520 38760 15504 4845 1140 190 20 1 \n"
     ]
    }
   ],
   "source": [
    "import math\n",
    "print(\"\\nTriángulo de Pascal:\")\n",
    "for n in range(1,21):\n",
    "    fila = \"\"\n",
    "    for k in range(n + 1):\n",
    "        num = 1\n",
    "        for i in range(n, n - k, -1):\n",
    "            num *= i\n",
    "        den = 1\n",
    "        for i in range(1, k + 1):\n",
    "            den *= i\n",
    "        fila += str(num // den) + \" \"\n",
    "    print(fila)\n"
   ]
  },
  {
   "cell_type": "markdown",
   "metadata": {},
   "source": [
    "**c)** La probabilidad de que, para una moneda no sesgada lanzada $n$ veces, salga águila\n",
    "$k$ veces es:\n",
    "\n",
    "$$\n",
    "p(k \\mid n) = \\frac{\\binom{n}{k}}{2^n}\n",
    "$$\n",
    "\n",
    "Escribe un programa para calcular:\n",
    "\n",
    "1) La probabilidad total de que una moneda lanzada 100 veces, salga águila exactamente 60 veces."
   ]
  },
  {
   "cell_type": "code",
   "execution_count": 17,
   "metadata": {},
   "outputs": [
    {
     "name": "stdout",
     "output_type": "stream",
     "text": [
      "Probabilidad de obtener exactamente 60 águilas: 0.010843866711637987\n"
     ]
    }
   ],
   "source": [
    "import math\n",
    "n = 100\n",
    "k = 60\n",
    "\n",
    "# Calcular binomio\n",
    "num = 1\n",
    "for i in range(n, n - k, -1):\n",
    "    num *= i\n",
    "\n",
    "den = 1\n",
    "for i in range(1, k + 1):\n",
    "    den *= i\n",
    "\n",
    "binom = num // den\n",
    "p = binom / 2**n\n",
    "print(\"Probabilidad de obtener exactamente 60 águilas:\", p)\n"
   ]
  },
  {
   "cell_type": "markdown",
   "metadata": {},
   "source": [
    "2) La probabilidad total de que salga águila **60 veces o más**."
   ]
  },
  {
   "cell_type": "code",
   "execution_count": 58,
   "metadata": {},
   "outputs": [
    {
     "name": "stdout",
     "output_type": "stream",
     "text": [
      "Probabilidad de obtener 60 o más águilas: 0.028443966820490392\n"
     ]
    }
   ],
   "source": [
    "import math\n",
    "prob = 0.0\n",
    "for k in range(60, 101):\n",
    "    num = 1\n",
    "    for i in range(n, n - k, -1):\n",
    "        num *= i\n",
    "    den = 1\n",
    "    for i in range(1, k + 1):\n",
    "        den *= i\n",
    "    binom = num // den\n",
    "    prob += binom / 2**n\n",
    "\n",
    "print(\"Probabilidad de obtener 60 o más águilas:\", prob)\n"
   ]
  },
  {
   "cell_type": "markdown",
   "metadata": {},
   "source": [
    "### 7. Recursión\n",
    "\n",
    "Una característica muy útil de las funciones que podemos definir es la **recursividad**, es\n",
    "decir, la capacidad de una función de llamarse a sí misma. \n",
    "\n",
    "Por ejemplo, considere la siguiente definición del factorial $n!$ de un entero positivo $n$:\n",
    "\n",
    "$$\n",
    "n! =\n",
    "\\begin{cases}\n",
    "1 & \\text{si } n = 1, \\\\\n",
    "n \\times (n - 1)! & \\text{si } n > 1.\n",
    "\\end{cases}\n",
    "$$\n",
    "\n",
    "Esto constituye una definición completa del factorial que nos permite calcular el valor\n",
    "de $n!$ para cualquier entero positivo. Podemos emplear esta definición directamente\n",
    "para crear una función para calcular factoriales, como esta (en Python):\n",
    "\n",
    "```\n",
    "def factorial(n):\n",
    "    if n == 1:\n",
    "        return 1\n",
    "    else:\n",
    "        return n * factorial(n - 1)\n",
    "```\n",
    "Nota cómo si $n$ no es igual a 1, la función se llama a sí misma para calcular el factorial\n",
    "de $n - 1$, de tal manera que al pedir \"print(factorial(5))\" el intérprete de Python imprimirá correctamente la respuesta 120."
   ]
  },
  {
   "cell_type": "markdown",
   "metadata": {},
   "source": [
    "**a)** Anteriormente, en clase encontramos los números de Catalán $C_n$. Si hacemos una\n",
    "pequeña modificación, la definición de $C_n$ se puede reescribir de la siguiente forma:\n",
    "\n",
    "$$\n",
    "C_n = \n",
    "\\begin{cases}\n",
    "1 & \\text{if } n = 0, \\\\\n",
    "\\dfrac{4n - 2}{n + 1} C_{n-1} & \\text{if } n > 0.\n",
    "\\end{cases}\n",
    "$$\n",
    "\n",
    "Escribe una función, usando recursividad, que calcule $C_n$ y utilízala para calcular\n",
    "e imprimir $C_{100}$."
   ]
  },
  {
   "cell_type": "code",
   "execution_count": 60,
   "metadata": {},
   "outputs": [
    {
     "name": "stdout",
     "output_type": "stream",
     "text": [
      "C_100 = 896519947090131496687170070074100632420837521538745909320\n"
     ]
    }
   ],
   "source": [
    "import math\n",
    "def catalan(n):\n",
    "    if n == 0:\n",
    "        return 1\n",
    "    else:\n",
    "        return ((4*n - 2) * catalan(n - 1)) // (n + 1)\n",
    "\n",
    "print(\"C_100 =\", catalan(100))\n"
   ]
  },
  {
   "cell_type": "markdown",
   "metadata": {},
   "source": [
    "**b)** Euclides demostró que el máximo común divisor $g(m, n)$ de dos enteros no negativos\n",
    "$m$ y $n$ satisface que:\n",
    "\n",
    "$$\n",
    "g(m, n) =\n",
    "\\begin{cases}\n",
    "m & \\text{si } n = 0, \\\\\n",
    "g(n, m \\bmod n) & \\text{si } n > 0.\n",
    "\\end{cases}\n",
    "$$\n",
    "\n",
    "Usando esta fórmula, escribe una función $g(m,n)$ que emplee recursividad para\n",
    "calcular el máximo común divisor de $m$ y $n$. Usa tu función para calcular e imprimir\n",
    "el máximo común divisor de 108 y 192."
   ]
  },
  {
   "cell_type": "code",
   "execution_count": 62,
   "metadata": {},
   "outputs": [
    {
     "name": "stdout",
     "output_type": "stream",
     "text": [
      "Máximo común divisor (MCD) de 108 y 192 = 12\n"
     ]
    }
   ],
   "source": [
    "import math\n",
    "m = 108\n",
    "n = 192\n",
    "\n",
    "while n != 0:\n",
    "    r = m % n\n",
    "    m = n\n",
    "    n = r\n",
    "\n",
    "print(\"Máximo común divisor (MCD) de 108 y 192 =\", m)\n"
   ]
  },
  {
   "cell_type": "markdown",
   "metadata": {},
   "source": [
    "Comparando el cálculo de los números de Catalán del inciso 7a, con lo hecho en clase,\n",
    "vemos que es posible hacer el cálculo de dos maneras, ya sea directamente o usando\n",
    "recursividad.\n",
    "\n",
    "En la mayoría de los casos, si una cantidad se puede calcular sin recursividad, será\n",
    "más rápido y normalmente se recomienda hacerlo así, si es posible. \n",
    "\n",
    "Sin embargo, hay algunos cálculos que son esencialmente imposibles (o al menos mucho más difíciles)\n",
    "sin recursividad."
   ]
  }
 ],
 "metadata": {
  "@webio": {
   "lastCommId": null,
   "lastKernelId": null
  },
  "kernelspec": {
   "display_name": "Python 3 (ipykernel)",
   "language": "python",
   "name": "python3"
  },
  "language_info": {
   "codemirror_mode": {
    "name": "ipython",
    "version": 3
   },
   "file_extension": ".py",
   "mimetype": "text/x-python",
   "name": "python",
   "nbconvert_exporter": "python",
   "pygments_lexer": "ipython3",
   "version": "3.11.4"
  }
 },
 "nbformat": 4,
 "nbformat_minor": 4
}
