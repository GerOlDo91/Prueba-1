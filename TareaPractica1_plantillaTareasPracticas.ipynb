{
 "cells": [
  {
   "cell_type": "markdown",
   "metadata": {},
   "source": [
    "<h1 align=\"center\">Física Computacional.</h1>\n",
    "<h1 align=\"center\">Semestre 2015-2</h1>\n",
    "\n",
    "<h2>Sergio A. Alcalá Corona </h2> \n",
    "\n",
    "---\n",
    "### Rodrigo Vega Vilchis\n",
    "### Daniel Rojo Mata\n",
    "---"
   ]
  },
  {
   "cell_type": "markdown",
   "metadata": {},
   "source": [
    "<h1 align=\"center\">Programación para la física computacional</h1> \n",
    "\n",
    "## Práctica 1.  Programación básica\n",
    "\n",
    "\n",
    "### Programación básica para la física\n",
    "\n",
    "---"
   ]
  },
  {
   "cell_type": "markdown",
   "metadata": {},
   "source": [
    "### **EJERCICIOS**:\n",
    "\n",
    "$\\;$\n",
    "\n",
    "#### **1. Altitud de un satélite**: se va a lanzar un satélite en una órbita circular alrededor de la Tierra de modo que orbite el planeta una vez cada $T$ segundos."
   ]
  },
  {
   "cell_type": "markdown",
   "metadata": {},
   "source": [
    "#### **(a)** Demuestre que la altitud $h$ sobre la superficie de la Tierra que debe tener el satélite es:\n",
    "\n",
    "<h3 align=\"center\">$h = \\biggl( {GMT^2\\over4\\pi^2} \\biggr)^{1/3} - R$,</h3> \n",
    "\n",
    "donde $G = 6,67 × 10^{−11} m^3 kg^{−1}s^{−2}$ es la constante gravitatoria de Newton, $M = 5,97 ×\n",
    "1024 kg$ es la masa de la Tierra, y $R = 6371 km$ es su radio.\n",
    "\n",
    "\n"
   ]
  },
  {
   "cell_type": "markdown",
   "metadata": {},
   "source": []
  },
  {
   "cell_type": "markdown",
   "metadata": {},
   "source": [
    "#### **(b)** Escribe un programa que le pida al usuario que ingrese el valor deseado de $T$ y luego calcule e imprima la altura correcta en metros.\n"
   ]
  },
  {
   "cell_type": "code",
   "execution_count": 1,
   "metadata": {},
   "outputs": [
    {
     "name": "stdout",
     "output_type": "stream",
     "text": [
      "Ingresa el periodo orbital T en segundos: 23\n",
      "La altitud del satélite es: -6196257.437492619 metros\n"
     ]
    }
   ],
   "source": [
    "import math\n",
    "\n",
    "# Constantes\n",
    "G = 6.67e-11   # m^3 kg^-1 s^-2\n",
    "M = 5.97e24    # kg\n",
    "R = 6371e3     # m\n",
    "\n",
    "# Pedir al usuario el tiempo T (en segundos)\n",
    "T = float(input(\"Ingresa el periodo orbital T en segundos: \"))\n",
    "\n",
    "# Cálculo de h\n",
    "h = (G * M * T**2 / (4 * math.pi**2))**(1/3) - R\n",
    "\n",
    "# Mostrar resultado\n",
    "print(\"La altitud del satélite es:\", h, \"metros\")\n",
    "\n"
   ]
  },
  {
   "cell_type": "markdown",
   "metadata": {},
   "source": [
    "#### **(c)** Utiliza tu programa para calcular las altitudes de los satélites que orbitan la Tierra una vez al día (la llamada *órbita \"geosincrónica\"*), una vez cada **90 minutos** y una vez cada **45 minutos**. \n",
    "#### ¿Qué concluyes del último de estos cálculos?"
   ]
  },
  {
   "cell_type": "code",
   "execution_count": 2,
   "metadata": {},
   "outputs": [
    {
     "name": "stdout",
     "output_type": "stream",
     "text": [
      "\n",
      "Calculando altitudes para distintos periodos...\n",
      "Geoestacionaria (24h) -> Altitud: 35855910.176174976 metros\n",
      "Cada 90 minutos -> Altitud: 279321.6253728606 metros\n",
      "Cada 45 minutos -> Altitud: -2181559.8978108233 metros\n"
     ]
    }
   ],
   "source": [
    "# Parte c) Usar el programa para tres valores específicos\n",
    "print(\"\\nCalculando altitudes para distintos periodos...\")\n",
    "\n",
    "T_dia = 24 * 3600\n",
    "T_90min = 90 * 60\n",
    "T_45min = 45 * 60\n",
    "\n",
    "lista_T = [T_dia, T_90min, T_45min]\n",
    "nombres = [\"Geoestacionaria (24h)\", \"Cada 90 minutos\", \"Cada 45 minutos\"]\n",
    "\n",
    "for i in range(3):\n",
    "    T = lista_T[i]\n",
    "    h = (G * M * T**2 / (4 * math.pi**2))**(1/3) - R\n",
    "    print(nombres[i], \"-> Altitud:\", h, \"metros\")"
   ]
  },
  {
   "cell_type": "markdown",
   "metadata": {},
   "source": [
    "#### **2. Relatividad especial:** Una nave espacial viaja desde la Tierra en línea recta a una velocidad relativista $v$ a otro planeta a $x$ años luz de distancia. \n",
    "\n",
    "#### Escribe un programa que le pida al usuario el valor de $x$ y la velocidad $v$ como una fracción de la velocidad de la luz $c$, y que imprima el tiempo en años que tarda la nave espacial en llegar a su destino\n",
    "\n",
    "#### **(a)** en el marco de reposo de un observador en la Tierra y"
   ]
  },
  {
   "cell_type": "code",
   "execution_count": 3,
   "metadata": {},
   "outputs": [
    {
     "name": "stdout",
     "output_type": "stream",
     "text": [
      "Ingresa la distancia al planeta (en años luz): 23\n",
      "Ingresa la velocidad como fracción de c (por ejemplo, 0.99): 0.8\n",
      "\n",
      "Tiempo según un observador en la Tierra: 28.75 años\n"
     ]
    }
   ],
   "source": [
    "import math\n",
    "\n",
    "# c: velocidad de la luz en unidades de años luz por año\n",
    "c = 1.0\n",
    "\n",
    "# Solicitar entrada del usuario\n",
    "x = float(input(\"Ingresa la distancia al planeta (en años luz): \"))\n",
    "v_frac = float(input(\"Ingresa la velocidad como fracción de c (por ejemplo, 0.99): \"))\n",
    "\n",
    "# Calcular tiempos\n",
    "v = v_frac * c\n",
    "\n",
    "if v >= c:\n",
    "    print(\"La velocidad debe ser menor que la velocidad de la luz.\")\n",
    "else:\n",
    "    t_tierra = x / v\n",
    "    t_nave = t_tierra * math.sqrt(1 - v**2 / c**2)\n",
    "\n",
    "    print(\"\\nTiempo según un observador en la Tierra:\", t_tierra, \"años\")\n",
    "\n"
   ]
  },
  {
   "cell_type": "markdown",
   "metadata": {},
   "source": [
    "#### **(b)** como lo percibiría un pasajero a bordo de la nave. "
   ]
  },
  {
   "cell_type": "code",
   "execution_count": 4,
   "metadata": {},
   "outputs": [
    {
     "name": "stdout",
     "output_type": "stream",
     "text": [
      "Ingresa la distancia al planeta (en años luz): 23\n",
      "Ingresa la velocidad como fracción de c (por ejemplo, 0.99): 0.8\n",
      "Tiempo según un pasajero en la nave: 17.249999999999996 años\n"
     ]
    }
   ],
   "source": [
    "import math\n",
    "\n",
    "# c: velocidad de la luz en unidades de años luz por año\n",
    "c = 1.0\n",
    "\n",
    "# Solicitar entrada del usuario\n",
    "x = float(input(\"Ingresa la distancia al planeta (en años luz): \"))\n",
    "v_frac = float(input(\"Ingresa la velocidad como fracción de c (por ejemplo, 0.99): \"))\n",
    "\n",
    "# Calcular tiempos\n",
    "v = v_frac * c\n",
    "\n",
    "if v >= c:\n",
    "    print(\"La velocidad debe ser menor que la velocidad de la luz.\")\n",
    "else:\n",
    "    t_tierra = x / v\n",
    "    t_nave = t_tierra * math.sqrt(1 - v**2 / c**2)\n",
    "\n",
    "    print(\"Tiempo según un pasajero en la nave:\", t_nave, \"años\")\n"
   ]
  },
  {
   "cell_type": "markdown",
   "metadata": {},
   "source": [
    "#### Usa tu programa para calcular las respuestas para un planeta a 10 años luz de distancia con $v = 0.99c$"
   ]
  },
  {
   "cell_type": "code",
   "execution_count": 5,
   "metadata": {},
   "outputs": [
    {
     "name": "stdout",
     "output_type": "stream",
     "text": [
      "\n",
      "Ejemplo con x = 10 años luz, v = 0.99c\n",
      "Tiempo en Tierra: 10.1010101010101 años\n",
      "Tiempo en la nave: 1.424922826228878 años\n"
     ]
    }
   ],
   "source": [
    "\n",
    "# Parte extra: ejemplo para 10 años luz y v = 0.99c\n",
    "print(\"\\nEjemplo con x = 10 años luz, v = 0.99c\")\n",
    "x = 10\n",
    "v = 0.99\n",
    "t_tierra = x / v\n",
    "t_nave = t_tierra * math.sqrt(1 - v**2)\n",
    "print(\"Tiempo en Tierra:\", t_tierra, \"años\")\n",
    "print(\"Tiempo en la nave:\", t_nave, \"años\")\n"
   ]
  },
  {
   "cell_type": "markdown",
   "metadata": {},
   "source": [
    "#### **3. Órbitas planetarias**: En el espacio, la órbita de un cuerpo alrededor de otro (como un planeta alrededor del Sol), no necesariamente es circular. En general, toma la forma de una elipse, con el cuerpo a veces más cerca y otras más lejos. Si tenemos la distancia $\\ell_1$ de máxima aproximación de un planeta al Sol (su \\textit{perihelio}), y su velocidad lineal $v_1$ en el perihelio, entonces cualquier otra propiedad de la órbita se puede calcular a partir de estas dos cantidades de la siguiente manera:\n",
    "\n",
    "#### **(a)** La segunda ley de Kepler nos dice que la distancia $\\ell_2$ y la velocidad $v_2$ del planeta en su punto más distante, o \\textit{afelio}, satisfacen que $\\ell_2 v_2 = \\ell_1 v_1$.  Al mismo tiempo, la energía total, cinética más la gravitatoria, de un planeta con velocidad $v$ y distancia $r$ del Sol está dada por:\n",
    "\n",
    "<h3 align=\"center\">$E = \\frac{1}{2} m v^2 - G {mM\\over r}$,</h3>\n",
    "       \n",
    "#### donde $m$ es la masa del planeta, $M=1.9891\\times10^{30}\\,$kg es la masa del Sol y $G=6.6738\\times10^{-11}\\,\\mathrm{m^3\\,kg^{-1}\\,s^{-2}}$ es la constante gravitatoria de Newton. Dado que la energía debe conservarse, demuestre que $v_2$ es la raíz más pequeña de la ecuación cuadrática:\n",
    "\n",
    "<h3 align=\"center\">$v_2^2 - {2GM\\over v_1\\ell_1} v_2 - \\biggl[ v_1^2 - {2GM\\over\\ell_1} \\biggr] = 0$.</h3>\n",
    "\n",
    "#### Una vez que tenemos $v_2$ podemos calcular $\\ell_2$  usando la relación $\\ell_2 = \\ell_1 v_1/v_2$.\n"
   ]
  },
  {
   "cell_type": "markdown",
   "metadata": {},
   "source": []
  },
  {
   "cell_type": "markdown",
   "metadata": {},
   "source": [
    "#### **(b)**  Dados los valores de $v_1$, $\\ell_1$, y $\\ell_2$; otros parámetros de la órbita se obtienen mediante fórmulas simples que pueden derivarse de las leyes de Kepler y del hecho de que la órbita es una elipse:\n",
    "\n",
    "<h4 align=\"center\"><b>Semieje mayor</b>: $\\; \\; \\; a = \\frac{1}{2}(\\ell_1+\\ell_2),$</h3>\n",
    "\n",
    "<h4 align=\"center\"><b>Semieje menor</b>: $\\; \\; b = \\sqrt{\\ell_1\\ell_2},$</h3>\n",
    "\n",
    "<h4 align=\"center\"><b>Período orbital</b>: $\\; \\; T = {2\\pi ab\\over\\ell_1 v_1},$</h3>\n",
    "\n",
    "<h4 align=\"center\"><b>Excentricidad orbital</b>: $\\; \\; e = {\\ell_2-\\ell_1\\over\\ell_2+\\ell_1},$</h3>\n",
    "\n",
    "#### Escribe un programa que le pida al usuario que ingrese la distancia al Sol y la velocidad en el perihelio; para que calcule e imprima las cantidades $\\ell_2$, $v_2$, $T$ y $e$.\n"
   ]
  },
  {
   "cell_type": "code",
   "execution_count": 6,
   "metadata": {},
   "outputs": [
    {
     "name": "stdout",
     "output_type": "stream",
     "text": [
      "Ingresa la distancia al Sol en el perihelio (en metros): 12\n",
      "Ingresa la velocidad en el perihelio (en m/s): 76\n",
      "\n",
      "Resultados orbitales:\n",
      "ℓ2 = 14.25 m\n",
      "v2 = 64.0 m/s\n",
      "Periodo orbital T = 1.1824489427389866 s\n",
      "Excentricidad e = 0.08571428571428572\n"
     ]
    }
   ],
   "source": [
    "import math\n",
    "\n",
    "# Constantes\n",
    "G = 6.6738e-11\n",
    "M = 1.9891e30  # masa del Sol\n",
    "\n",
    "# Entrada del usuario\n",
    "l1 = float(input(\"Ingresa la distancia al Sol en el perihelio (en metros): \"))\n",
    "v1 = float(input(\"Ingresa la velocidad en el perihelio (en m/s): \"))\n",
    "\n",
    "# Coeficientes de la cuadrática\n",
    "A = 1\n",
    "B = - (2 * G * M) / (l1 * v1)\n",
    "C = - (v1**2 - (2 * G * M) / l1)\n",
    "\n",
    "# Resolver cuadrática\n",
    "discriminante = B**2 - 4*A*C\n",
    "\n",
    "if discriminante < 0:\n",
    "    print(\"No hay solución real para v2.\")\n",
    "else:\n",
    "    raiz = math.sqrt(discriminante)\n",
    "    v2_1 = (-B + raiz) / (2*A)\n",
    "    v2_2 = (-B - raiz) / (2*A)\n",
    "    \n",
    "    # Tomamos la raíz menor positiva\n",
    "    if v2_1 < v2_2 and v2_1 > 0:\n",
    "        v2 = v2_1\n",
    "    else:\n",
    "        v2 = v2_2\n",
    "\n",
    "    # Calcular ℓ2\n",
    "    l2 = l1 * v1 / v2\n",
    "\n",
    "    # Semiejes\n",
    "    a = 0.5 * (l1 + l2)\n",
    "    b = math.sqrt(l1 * l2)\n",
    "\n",
    "    # Periodo orbital\n",
    "    T = (2 * math.pi * a * b) / (l1 * v1)\n",
    "\n",
    "    # Excentricidad\n",
    "    e = (l2 - l1) / (l2 + l1)\n",
    "\n",
    "    # Imprimir resultados\n",
    "    print(\"\\nResultados orbitales:\")\n",
    "    print(\"ℓ2 =\", l2, \"m\")\n",
    "    print(\"v2 =\", v2, \"m/s\")\n",
    "    print(\"Periodo orbital T =\", T, \"s\")\n",
    "    print(\"Excentricidad e =\", e)\n",
    "\n",
    "\n"
   ]
  },
  {
   "cell_type": "markdown",
   "metadata": {},
   "source": [
    "#### **(c)** Prueba tu programa haciendo que calcule las propiedades de las órbitas de la Tierra (para las cuales $\\ell_1=1.4710\\times10^{11}\\,$m y $v_1=3.0287\\times10^4\\,\\mathrm{m\\,s^{-1}}$)  y del cometa Halley ($\\ell_1=8.7830\\times10^{10}\\,$m y $v_1=5.4529\\times10^4\\,\\mathrm{m\\,s^{-1}}$). Entre otras cosas, deberías encontrar que el período orbital de la Tierra es de un año y el del cometa Halley es de unos 76 años."
   ]
  },
  {
   "cell_type": "code",
   "execution_count": 7,
   "metadata": {},
   "outputs": [
    {
     "name": "stdout",
     "output_type": "stream",
     "text": [
      "\n",
      "Valores para la Tierra:\n",
      "T (Tierra) = 1.0002238777234564 años\n",
      "\n",
      "Valores para el cometa Halley:\n",
      "T (Halley) = 76.08170065465461 años\n"
     ]
    }
   ],
   "source": [
    "# Parte c): Tierra y Cometa Halley\n",
    "print(\"\\nValores para la Tierra:\")\n",
    "l1 = 1.4710e11\n",
    "v1 = 3.0287e4\n",
    "\n",
    "B = - (2 * G * M) / (l1 * v1)\n",
    "C = - (v1**2 - (2 * G * M) / l1)\n",
    "discriminante = B**2 - 4*A*C\n",
    "v2 = (-B - math.sqrt(discriminante)) / (2*A)\n",
    "l2 = l1 * v1 / v2\n",
    "a = 0.5 * (l1 + l2)\n",
    "b = math.sqrt(l1 * l2)\n",
    "T = (2 * math.pi * a * b) / (l1 * v1)\n",
    "e = (l2 - l1) / (l2 + l1)\n",
    "print(\"T (Tierra) =\", T / (3600*24*365), \"años\")\n",
    "\n",
    "print(\"\\nValores para el cometa Halley:\")\n",
    "l1 = 8.7830e10\n",
    "v1 = 5.4529e4\n",
    "\n",
    "B = - (2 * G * M) / (l1 * v1)\n",
    "C = - (v1**2 - (2 * G * M) / l1)\n",
    "discriminante = B**2 - 4*A*C\n",
    "v2 = (-B - math.sqrt(discriminante)) / (2*A)\n",
    "l2 = l1 * v1 / v2\n",
    "a = 0.5 * (l1 + l2)\n",
    "b = math.sqrt(l1 * l2)\n",
    "T = (2 * math.pi * a * b) / (l1 * v1)\n",
    "e = (l2 - l1) / (l2 + l1)\n",
    "print(\"T (Halley) =\", T / (3600*24*365), \"años\")\n"
   ]
  },
  {
   "cell_type": "markdown",
   "metadata": {},
   "source": [
    "### 4. La fórmula semiempírica de la masa (FSM)\n",
    "\n",
    "En física nuclear, la **fórmula de Weizsäcker** (conocida también como **fórmula semiempírica**) sirve para evaluar la masa y otras propiedades de un núcleo atómico, y está basada parcialmente en mediciones empíricas.\n",
    "En particular, la fórmula se usa para calcular la **energía de enlace nuclear aproximada** \\( B \\), de un núcleo atómico con número atómico \\( Z \\) y número de masa \\( A \\):\n",
    "\n",
    "$$\n",
    "B = a_1 A - a_2 A^{2/3} - a_3 \\frac{Z^2}{A^{1/3}} - a_4 \\frac{(A - 2Z)^2}{A} + \\frac{a_5}{\\sqrt{A}}\n",
    "$$\n",
    "\n",
    "donde, en unidades de millones de electron-volts (MeV), las constantes son:\n",
    "\n",
    "$$\n",
    "a_1 = 15.8, \\quad a_2 = 18.3, \\quad a_3 = 0.714, \\quad a_4 = 23.2\n",
    "$$\n",
    "\n",
    "y\n",
    "\n",
    "\n",
    "$$\n",
    "a_5 =\n",
    "\\begin{cases}\n",
    "0 & \\text{si } A \\text{ es impar} \\\\\n",
    "12.0 & \\text{si } A \\text{ y } Z \\text{ son pares (ambos)} \\\\\n",
    "-12.0 & \\text{si } A \\text{ es par y } Z \\text{ impar}\n",
    "\\end{cases}\n",
    "$$\n",
    "---\n",
    "\n"
   ]
  },
  {
   "cell_type": "markdown",
   "metadata": {},
   "source": [
    "a) Escribe un programa que tome como entrada los valores de A y Z, e imprima la \n",
    "energía de enlace B para el átomo correspondiente. Usa tu programa para encontrar\n",
    "la energía de enlace de un átomo con A = 58 y Z = 28 (Hint: La respuesta\n",
    "correcta es alrededor de los 490 MeV).\n"
   ]
  },
  {
   "cell_type": "code",
   "execution_count": 8,
   "metadata": {},
   "outputs": [
    {
     "name": "stdout",
     "output_type": "stream",
     "text": [
      "Ingresa el número de masa A: 67\n",
      "Ingresa el número atómico Z: 43\n",
      "Energía de enlace B = 306.6720254809317 MeV\n"
     ]
    }
   ],
   "source": [
    "import math\n",
    "\n",
    "# Constantes\n",
    "a1 = 15.8\n",
    "a2 = 18.3\n",
    "a3 = 0.714\n",
    "a4 = 23.2\n",
    "\n",
    "# Entrada\n",
    "A = int(input(\"Ingresa el número de masa A: \"))\n",
    "Z = int(input(\"Ingresa el número atómico Z: \"))\n",
    "\n",
    "# a5 depende de la paridad de A y Z\n",
    "a5 = 0\n",
    "if A % 2 != 0:\n",
    "    a5 = 0\n",
    "elif Z % 2 == 0:\n",
    "    a5 = 12.0\n",
    "else:\n",
    "    a5 = -12.0\n",
    "\n",
    "# Calcular B\n",
    "B = a1*A - a2*A**(2/3) - a3*(Z**2)/A**(1/3) - a4*((A - 2*Z)**2)/A + a5/A**(1/2)\n",
    "print(\"Energía de enlace B =\", B, \"MeV\")\n",
    "\n"
   ]
  },
  {
   "cell_type": "markdown",
   "metadata": {},
   "source": [
    "b) Modifica el programa del inciso anterior, para escribir una segunda versión que\n",
    "imprima no la energía de enlace total B, sino la energía de unión por nucleón, que\n",
    "es B/A.\n"
   ]
  },
  {
   "cell_type": "code",
   "execution_count": 9,
   "metadata": {},
   "outputs": [
    {
     "name": "stdout",
     "output_type": "stream",
     "text": [
      "Energía de enlace por nucleón B/A = 4.57719441016316 MeV\n"
     ]
    }
   ],
   "source": [
    "print(\"Energía de enlace por nucleón B/A =\", B/A, \"MeV\")\n"
   ]
  },
  {
   "cell_type": "markdown",
   "metadata": {},
   "source": [
    "c) Escribe una tercera versión del programa para que tome como entrada solo un\n",
    "valor del número atómico \\( Z \\) y luego pase por todos los valores de \\( A \\) desde \\( A = Z \\)\n",
    "hasta \\( A = 3Z \\), para encontrar el que tiene la mayor energía de enlace por nucleón.\n",
    "Este es el núcleo más estable con el número atómico dado. Haz que tu programa\n",
    "imprima el valor de \\( A \\) para este núcleo más estable y el valor de la energía de\n",
    "enlace por nucleón.\n",
    "\n",
    "---\n"
   ]
  },
  {
   "cell_type": "code",
   "execution_count": 10,
   "metadata": {},
   "outputs": [
    {
     "name": "stdout",
     "output_type": "stream",
     "text": [
      "Ingresa el número atómico Z para buscar A más estable: 65\n",
      "A más estable = 153 con B/A = 8.167786207290451 MeV\n"
     ]
    }
   ],
   "source": [
    "Z = int(input(\"Ingresa el número atómico Z para buscar A más estable: \"))\n",
    "A_mejor = Z\n",
    "Bmax = 0\n",
    "\n",
    "for A in range(Z, 3*Z + 1):\n",
    "    if A % 2 != 0:\n",
    "        a5 = 0\n",
    "    elif Z % 2 == 0:\n",
    "        a5 = 12.0\n",
    "    else:\n",
    "        a5 = -12.0\n",
    "    B = a1*A - a2*A**(2/3) - a3*(Z**2)/A**(1/3) - a4*((A - 2*Z)**2)/A + a5/A**(1/2)\n",
    "    BporA = B / A\n",
    "    if BporA > Bmax:\n",
    "        Bmax = BporA\n",
    "        A_mejor = A\n",
    "\n",
    "print(\"A más estable =\", A_mejor, \"con B/A =\", Bmax, \"MeV\")\n"
   ]
  },
  {
   "cell_type": "markdown",
   "metadata": {},
   "source": [
    "d) Finalmente, escribe una cuarta versión del programa que, en lugar de tomar \\( Z \\)\n",
    "como entrada, se ejecute a través de todos los valores de \\( Z \\) de 1 a 100 e imprima\n",
    "el valor más estable de \\( A \\) para cada uno. ¿A qué valor de \\( Z \\) se produce la energía\n",
    "de enlace máxima por nucleón? (La respuesta correcta, en la vida real, es \\( Z = 28 \\),\n",
    "que corresponde al Níquel)."
   ]
  },
  {
   "cell_type": "code",
   "execution_count": null,
   "metadata": {},
   "outputs": [],
   "source": []
  },
  {
   "cell_type": "markdown",
   "metadata": {},
   "source": [
    "### 5. La constante de Madelung\n",
    "\n",
    "En física de la materia condensada, la **constante de Madelung** da el potencial eléctrico\n",
    "total que siente un átomo en un sólido; y depende de las cargas de los otros átomos\n",
    "cercanos y de sus ubicaciones.\n",
    "\n",
    "Por ejemplo, el cristal de cloruro de sodio sólido (la sal de mesa), tiene átomos dispuestos\n",
    "en una red cúbica, con átomos de sodio y cloro alternados, teniendo los de sodio\n",
    "una carga positiva $+e$ y los de cloro una carga negativa $-e$ (donde $e$ es la carga del electrón).\n",
    "\n",
    "Si etiquetamos cada posición en la red con tres coordenadas enteras $(i, j, k)$, entonces\n",
    "los átomos de sodio caen en posiciones donde $i + j + k$ es par, y los átomos de cloro en\n",
    "posiciones donde $i + j + k$ es impar.\n",
    "\n",
    "Consideremos un átomo de sodio en el origen, i.e. $i = j = k = 0$, y calculemos la\n",
    "constante de Madelung. Si el espaciado de los átomos en la red es $a$, entonces la distancia\n",
    "desde el origen al átomo en la posición $(i, j, k)$ es:\n",
    "\n",
    "$$\n",
    "\\sqrt{(ia)^2 + (ja)^2 + (ka)^2} = a \\sqrt{i^2 + j^2 + k^2},\n",
    "$$\n",
    "\n",
    "y el potencial en el origen creado por tal átomo es:\n",
    "\n",
    "$$\n",
    "V(i, j, k) = \\pm \\frac{e}{4 \\pi \\varepsilon_0 a \\sqrt{i^2 + j^2 + k^2}},\n",
    "$$\n",
    "\n",
    "siendo $\\varepsilon_0$ la permitividad del vacío y el signo de la expresión se toma dependiendo de\n",
    "si $i + j + k$ es par o impar.\n",
    "\n",
    "Así entonces, el potencial total que siente el átomo de sodio\n",
    "es la suma de esta cantidad sobre todos los demás átomos. Supongamos una caja cúbica\n",
    "alrededor del átomo de sodio en el origen, con $L$ átomos en todas las direcciones, entonces:\n",
    "\n",
    "$$\n",
    "V_{\\text{total}} = \\sum_{\\substack{i,j,k=-L \\\\ (i,j,k)\\ne(0,0,0)}}^{L} V(i, j, k) = \\frac{e}{4 \\pi \\varepsilon_0 a} M,\n",
    "$$\n",
    "\n",
    "donde $M$ es la constante de Madelung (al menos aproximadamente).\n",
    "\n",
    "Técnicamente, la constante de Madelung es el valor de $M$ cuando $L \\to \\infty$, pero se\n",
    "puede obtener una buena aproximación simplemente usando un valor grande de $L$.\n",
    "\n",
    "**Escribe un programa para calcular e imprimir la constante de Madelung para el cloruro\n",
    "de sodio. Utiliza un valor de $L$ tan grande como puedas, sin dejar que tu programa se\n",
    "ejecute por más de un minuto.**"
   ]
  },
  {
   "cell_type": "code",
   "execution_count": null,
   "metadata": {},
   "outputs": [],
   "source": [
    "import math\n",
    "\n",
    "# Valor de L (cuanto mayor, más precisa la constante)\n",
    "L = int(input(\"Ingresa el valor de L (por ejemplo, 10): \"))\n",
    "\n",
    "M = 0.0  # Aquí se acumulará la constante de Madelung\n",
    "\n",
    "for i in range(-L, L+1):\n",
    "    for j in range(-L, L+1):\n",
    "        for k in range(-L, L+1):\n",
    "            if i == 0 and j == 0 and k == 0:\n",
    "                continue  # omitimos el átomo en el origen\n",
    "\n",
    "            r = math.sqrt(i**2 + j**2 + k**2)\n",
    "\n",
    "            if r != 0:\n",
    "                signo = (-1)**(i + j + k)\n",
    "                M += signo / r\n",
    "\n",
    "print(\"\\nAproximación de la constante de Madelung M =\", M)\n"
   ]
  },
  {
   "cell_type": "markdown",
   "metadata": {},
   "source": [
    "### 6. Coeficientes binomiales\n",
    "\n",
    "El coeficiente binomial $\\binom{n}{k}$ es un número entero igual a:\n",
    "\n",
    "$$\n",
    "\\binom{n}{k} = \\frac{n!}{k!(n - k)!} = \\frac{n \\times (n - 1) \\times (n - 2) \\times \\dots \\times (n - k + 1)}{1 \\times 2 \\times \\dots \\times k}\n",
    "$$\n",
    "\n",
    "donde $k \\geq 1$, o bien $\\binom{n}{0} = 1$ cuando $k = 0$."
   ]
  },
  {
   "cell_type": "markdown",
   "metadata": {},
   "source": [
    "**a)** Utiliza esta fórmula para escribir una función llamada `binomial(n, k)` (o como tú quieras) que calcule el coeficiente binomial para un $n$ y $k$ dados. Asegúrate de\n",
    "que tu función devuelva la respuesta en forma de un número entero (no flotante)\n",
    "y proporcione el valor correcto de $1$ para el caso en que $k = 0$."
   ]
  },
  {
   "cell_type": "code",
   "execution_count": 13,
   "metadata": {},
   "outputs": [
    {
     "name": "stdout",
     "output_type": "stream",
     "text": [
      "Ingresa n: 9\n",
      "Ingresa k: 3\n",
      "El coeficiente binomial (9 sobre 3) es: 84\n"
     ]
    }
   ],
   "source": [
    "# Entrada de n y k\n",
    "n = int(input(\"Ingresa n: \"))\n",
    "k = int(input(\"Ingresa k: \"))\n",
    "\n",
    "# Calcular binomio sin usar funciones\n",
    "num = 1\n",
    "for i in range(n, n - k, -1):\n",
    "    num *= i\n",
    "\n",
    "den = 1\n",
    "for i in range(1, k + 1):\n",
    "    den *= i\n",
    "\n",
    "binomio = num // den\n",
    "print(f\"El coeficiente binomial ({n} sobre {k}) es:\", binomio)\n"
   ]
  },
  {
   "cell_type": "markdown",
   "metadata": {},
   "source": [
    "**b)** Usando tu función, escribe un programa que imprima las primeras 20 líneas del\n",
    "“triángulo de Pascal”. La $n$-ésima línea del triángulo de Pascal contiene $n+1$ números,\n",
    "que son los coeficientes $\\binom{n}{0}$, $\\binom{n}{1}$, y así sucesivamente hasta $\\binom{n}{n}$. \n",
    "\n",
    "De tal manera que las primeras líneas son:\n",
    "\n",
    "<pre>\n",
    "               \n",
    "             1   1\n",
    "           1   2   1\n",
    "         1   3   3   1\n",
    "       1   4   6   4   1\n",
    "    \n",
    "</pre>\n"
   ]
  },
  {
   "cell_type": "code",
   "execution_count": 14,
   "metadata": {},
   "outputs": [
    {
     "name": "stdout",
     "output_type": "stream",
     "text": [
      "\n",
      "Triángulo de Pascal:\n",
      "1 \n",
      "1 1 \n",
      "1 2 1 \n",
      "1 3 3 1 \n",
      "1 4 6 4 1 \n",
      "1 5 10 10 5 1 \n",
      "1 6 15 20 15 6 1 \n",
      "1 7 21 35 35 21 7 1 \n",
      "1 8 28 56 70 56 28 8 1 \n",
      "1 9 36 84 126 126 84 36 9 1 \n",
      "1 10 45 120 210 252 210 120 45 10 1 \n",
      "1 11 55 165 330 462 462 330 165 55 11 1 \n",
      "1 12 66 220 495 792 924 792 495 220 66 12 1 \n",
      "1 13 78 286 715 1287 1716 1716 1287 715 286 78 13 1 \n",
      "1 14 91 364 1001 2002 3003 3432 3003 2002 1001 364 91 14 1 \n",
      "1 15 105 455 1365 3003 5005 6435 6435 5005 3003 1365 455 105 15 1 \n",
      "1 16 120 560 1820 4368 8008 11440 12870 11440 8008 4368 1820 560 120 16 1 \n",
      "1 17 136 680 2380 6188 12376 19448 24310 24310 19448 12376 6188 2380 680 136 17 1 \n",
      "1 18 153 816 3060 8568 18564 31824 43758 48620 43758 31824 18564 8568 3060 816 153 18 1 \n",
      "1 19 171 969 3876 11628 27132 50388 75582 92378 92378 75582 50388 27132 11628 3876 969 171 19 1 \n"
     ]
    }
   ],
   "source": [
    "print(\"\\nTriángulo de Pascal:\")\n",
    "for n in range(20):\n",
    "    fila = \"\"\n",
    "    for k in range(n + 1):\n",
    "        num = 1\n",
    "        for i in range(n, n - k, -1):\n",
    "            num *= i\n",
    "        den = 1\n",
    "        for i in range(1, k + 1):\n",
    "            den *= i\n",
    "        fila += str(num // den) + \" \"\n",
    "    print(fila)\n"
   ]
  },
  {
   "cell_type": "markdown",
   "metadata": {},
   "source": [
    "**c)** La probabilidad de que, para una moneda no sesgada lanzada $n$ veces, salga águila\n",
    "$k$ veces es:\n",
    "\n",
    "$$\n",
    "p(k \\mid n) = \\frac{\\binom{n}{k}}{2^n}\n",
    "$$\n",
    "\n",
    "Escribe un programa para calcular:\n",
    "\n",
    "1) La probabilidad total de que una moneda lanzada 100 veces, salga águila exactamente 60 veces."
   ]
  },
  {
   "cell_type": "code",
   "execution_count": 15,
   "metadata": {},
   "outputs": [
    {
     "name": "stdout",
     "output_type": "stream",
     "text": [
      "\n",
      "Probabilidad de obtener exactamente 60 águilas: 0.010843866711637987\n"
     ]
    }
   ],
   "source": [
    "n = 100\n",
    "k = 60\n",
    "\n",
    "# Calcular binomio\n",
    "num = 1\n",
    "for i in range(n, n - k, -1):\n",
    "    num *= i\n",
    "\n",
    "den = 1\n",
    "for i in range(1, k + 1):\n",
    "    den *= i\n",
    "\n",
    "binom = num // den\n",
    "p = binom / 2**n\n",
    "print(\"\\nProbabilidad de obtener exactamente 60 águilas:\", p)\n"
   ]
  },
  {
   "cell_type": "markdown",
   "metadata": {},
   "source": [
    "2) La probabilidad total de que salga águila **60 veces o más**."
   ]
  },
  {
   "cell_type": "code",
   "execution_count": 16,
   "metadata": {},
   "outputs": [
    {
     "name": "stdout",
     "output_type": "stream",
     "text": [
      "Probabilidad de obtener 60 o más águilas: 0.028443966820490392\n"
     ]
    }
   ],
   "source": [
    "prob = 0.0\n",
    "for k in range(60, 101):\n",
    "    num = 1\n",
    "    for i in range(n, n - k, -1):\n",
    "        num *= i\n",
    "    den = 1\n",
    "    for i in range(1, k + 1):\n",
    "        den *= i\n",
    "    binom = num // den\n",
    "    prob += binom / 2**n\n",
    "\n",
    "print(\"Probabilidad de obtener 60 o más águilas:\", prob)\n"
   ]
  },
  {
   "cell_type": "markdown",
   "metadata": {},
   "source": [
    "### 7. Recursión\n",
    "\n",
    "Una característica muy útil de las funciones que podemos definir es la **recursividad**, es\n",
    "decir, la capacidad de una función de llamarse a sí misma. \n",
    "\n",
    "Por ejemplo, considere la siguiente definición del factorial $n!$ de un entero positivo $n$:\n",
    "\n",
    "$$\n",
    "n! =\n",
    "\\begin{cases}\n",
    "1 & \\text{si } n = 1, \\\\\n",
    "n \\times (n - 1)! & \\text{si } n > 1.\n",
    "\\end{cases}\n",
    "$$\n",
    "\n",
    "Esto constituye una definición completa del factorial que nos permite calcular el valor\n",
    "de $n!$ para cualquier entero positivo. Podemos emplear esta definición directamente\n",
    "para crear una función para calcular factoriales, como esta (en Python):\n",
    "\n",
    "```\n",
    "def factorial(n):\n",
    "    if n == 1:\n",
    "        return 1\n",
    "    else:\n",
    "        return n * factorial(n - 1)\n",
    "```\n",
    "Nota cómo si $n$ no es igual a 1, la función se llama a sí misma para calcular el factorial\n",
    "de $n - 1$, de tal manera que al pedir \"print(factorial(5))\" el intérprete de Python imprimirá correctamente la respuesta 120."
   ]
  },
  {
   "cell_type": "markdown",
   "metadata": {},
   "source": [
    "**a)** Anteriormente, en clase encontramos los números de Catalán $C_n$. Si hacemos una\n",
    "pequeña modificación, la definición de $C_n$ se puede reescribir de la siguiente forma:\n",
    "\n",
    "$$\n",
    "C_n = \n",
    "\\begin{cases}\n",
    "1 & \\text{if } n = 0, \\\\\n",
    "\\dfrac{4n - 2}{n + 1} C_{n-1} & \\text{if } n > 0.\n",
    "\\end{cases}\n",
    "$$\n",
    "\n",
    "Escribe una función, usando recursividad, que calcule $C_n$ y utilízala para calcular\n",
    "e imprimir $C_{100}$."
   ]
  },
  {
   "cell_type": "code",
   "execution_count": 17,
   "metadata": {},
   "outputs": [
    {
     "name": "stdout",
     "output_type": "stream",
     "text": [
      "C_100 = 896519947090131496687170070074100632420837521538745909320\n"
     ]
    }
   ],
   "source": [
    "# Elegimos n = 100\n",
    "n = 100\n",
    "C = 1  # C₀ = 1\n",
    "\n",
    "for i in range(1, n + 1):\n",
    "    C = ((4 * i - 2) * C) // (i + 1)\n",
    "\n",
    "print(\"C_100 =\", C)\n"
   ]
  },
  {
   "cell_type": "code",
   "execution_count": 18,
   "metadata": {},
   "outputs": [
    {
     "name": "stdout",
     "output_type": "stream",
     "text": [
      "C_100 = 896519947090131496687170070074100632420837521538745909320\n"
     ]
    }
   ],
   "source": [
    "def catalan(n):\n",
    "    if n == 0:\n",
    "        return 1\n",
    "    else:\n",
    "        return ((4*n - 2) * catalan(n - 1)) // (n + 1)\n",
    "\n",
    "print(\"C_100 =\", catalan(100))  # Esto puede tardar mucho\n"
   ]
  },
  {
   "cell_type": "markdown",
   "metadata": {},
   "source": [
    "**b)** Euclides demostró que el máximo común divisor $g(m, n)$ de dos enteros no negativos\n",
    "$m$ y $n$ satisface que:\n",
    "\n",
    "$$\n",
    "g(m, n) =\n",
    "\\begin{cases}\n",
    "m & \\text{si } n = 0, \\\\\n",
    "g(n, m \\bmod n) & \\text{si } n > 0.\n",
    "\\end{cases}\n",
    "$$\n",
    "\n",
    "Usando esta fórmula, escribe una función $g(m,n)$ que emplee recursividad para\n",
    "calcular el máximo común divisor de $m$ y $n$. Usa tu función para calcular e imprimir\n",
    "el máximo común divisor de 108 y 192."
   ]
  },
  {
   "cell_type": "code",
   "execution_count": 19,
   "metadata": {},
   "outputs": [
    {
     "name": "stdout",
     "output_type": "stream",
     "text": [
      "Máximo común divisor (MCD) = 12\n"
     ]
    }
   ],
   "source": [
    "m = 108\n",
    "n = 192\n",
    "\n",
    "while n != 0:\n",
    "    r = m % n\n",
    "    m = n\n",
    "    n = r\n",
    "\n",
    "print(\"Máximo común divisor (MCD) =\", m)\n"
   ]
  },
  {
   "cell_type": "markdown",
   "metadata": {},
   "source": [
    "Comparando el cálculo de los números de Catalán del inciso 7a, con lo hecho en clase,\n",
    "vemos que es posible hacer el cálculo de dos maneras, ya sea directamente o usando\n",
    "recursividad.\n",
    "\n",
    "En la mayoría de los casos, si una cantidad se puede calcular sin recursividad, será\n",
    "más rápido y normalmente se recomienda hacerlo así, si es posible. \n",
    "\n",
    "Sin embargo, hay algunos cálculos que son esencialmente imposibles (o al menos mucho más difíciles)\n",
    "sin recursividad."
   ]
  }
 ],
 "metadata": {
  "@webio": {
   "lastCommId": null,
   "lastKernelId": null
  },
  "kernelspec": {
   "display_name": "Python 3 (ipykernel)",
   "language": "python",
   "name": "python3"
  },
  "language_info": {
   "codemirror_mode": {
    "name": "ipython",
    "version": 3
   },
   "file_extension": ".py",
   "mimetype": "text/x-python",
   "name": "python",
   "nbconvert_exporter": "python",
   "pygments_lexer": "ipython3",
   "version": "3.11.4"
  }
 },
 "nbformat": 4,
 "nbformat_minor": 4
}
